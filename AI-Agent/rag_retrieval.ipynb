{
 "cells": [
  {
   "cell_type": "code",
   "execution_count": 1,
   "id": "5f0a6e890c883327",
   "metadata": {
    "ExecuteTime": {
     "end_time": "2025-04-05T09:08:05.140724Z",
     "start_time": "2025-04-05T09:08:05.125094Z"
    }
   },
   "outputs": [],
   "source": [
    "import pandas as pd"
   ]
  },
  {
   "cell_type": "code",
   "execution_count": 2,
   "id": "initial_id",
   "metadata": {
    "ExecuteTime": {
     "end_time": "2025-04-05T09:08:06.008900Z",
     "start_time": "2025-04-05T09:08:05.994301Z"
    },
    "collapsed": true
   },
   "outputs": [],
   "source": [
    "from dotenv import load_dotenv\n",
    "import os \n",
    "from langchain.document_loaders import TextLoader\n",
    "from langchain.text_splitter import RecursiveCharacterTextSplitter\n",
    "from langchain_openai import ChatOpenAI\n",
    "from langchain.chains import RetrievalQA\n"
   ]
  },
  {
   "cell_type": "code",
   "execution_count": 3,
   "id": "235ff07de13f18b4",
   "metadata": {
    "ExecuteTime": {
     "end_time": "2025-04-05T09:08:06.088661Z",
     "start_time": "2025-04-05T09:08:06.072828Z"
    }
   },
   "outputs": [
    {
     "data": {
      "text/plain": [
       "True"
      ]
     },
     "execution_count": 3,
     "metadata": {},
     "output_type": "execute_result"
    }
   ],
   "source": [
    "load_dotenv('.env')"
   ]
  },
  {
   "cell_type": "code",
   "execution_count": 4,
   "id": "50a5fe1478c3fb00",
   "metadata": {},
   "outputs": [
    {
     "data": {
      "text/plain": [
       "AIMessage(content='Hello! How can I assist you today?', additional_kwargs={'refusal': None}, response_metadata={'token_usage': {'completion_tokens': 10, 'prompt_tokens': 11, 'total_tokens': 21, 'completion_tokens_details': {'accepted_prediction_tokens': 0, 'audio_tokens': 0, 'reasoning_tokens': 0, 'rejected_prediction_tokens': 0}, 'prompt_tokens_details': {'audio_tokens': 0, 'cached_tokens': 0}}, 'model_name': 'gpt-4o-2024-08-06', 'system_fingerprint': 'fp_f5bdcc3276', 'id': 'chatcmpl-BRVaQ9d5iCZjHBflZ6ACQmekftaRy', 'finish_reason': 'stop', 'logprobs': None}, id='run-2d09c262-d9f1-4e56-94c4-9e289a69c373-0', usage_metadata={'input_tokens': 11, 'output_tokens': 10, 'total_tokens': 21, 'input_token_details': {'audio': 0, 'cache_read': 0}, 'output_token_details': {'audio': 0, 'reasoning': 0}})"
      ]
     },
     "execution_count": 4,
     "metadata": {},
     "output_type": "execute_result"
    }
   ],
   "source": [
    "model = ChatOpenAI(model=\"gpt-4o\")\n",
    "model.invoke(\"Hello, world!\")"
   ]
  },
  {
   "cell_type": "markdown",
   "id": "30ee8457",
   "metadata": {},
   "source": [
    "### Qdrant implementation"
   ]
  },
  {
   "cell_type": "code",
   "execution_count": 6,
   "id": "a335f160",
   "metadata": {},
   "outputs": [],
   "source": [
    "csv_file = \"../data/hotel_with_nearest_restaurants.csv\"\n",
    "df = pd.read_csv(csv_file)"
   ]
  },
  {
   "cell_type": "code",
   "execution_count": 10,
   "id": "905524fb",
   "metadata": {},
   "outputs": [],
   "source": [
    "from langchain.schema import Document\n",
    "\n",
    "doc = []\n",
    "ship_file = \"../data/ship.csv\"\n",
    "df3 = pd.read_csv(ship_file)\n",
    "for idx, row in df3.iterrows():\n",
    "    doc.append(Document(page_content=f\"Tàu {row['ship_name']} có số cabin là {row['cabin']}, trip đi {row['trip']} bởi công ty {row['admin']}, giá thành là {row['ship_price']}, địa chỉ ở {row['address']} với link map {row['map_link']}. Thuyền gồm các tiện ích sau {row['ship_features']}, {row['long_description']}\\n\", metadata={\"type\": \"ship\"}))\n",
    "    \n",
    "room_ship_file = \"../data/ship_rooms.csv\"\n",
    "df4 = pd.read_csv(room_ship_file)\n",
    "df4 = df4.merge(df3[['ship_id', 'ship_name']], on='ship_id', how='left')\n",
    "\n",
    "for idx, row in df4.iterrows():\n",
    "    doc.append(Document(page_content=f\"Tàu {row['ship_id']} có phòng loại {row['room_name']}, có kích thước {row['size']}m2, chứa được {row['max_persons']}. Giá phòng là {row['room_price']} và có các đặc trưng sau {row['room_features']}\\n\", metadata={\"type\": \"ship_room\", \"ship_name\": row['ship_name']}))\n",
    "for idx, row in df.iterrows():\n",
    "    doc.append(Document(page_content=f\"Khách sạn {row['hotel_name']}, với tổng cộng {row['total_rooms']} phòng, được quản lý bởi {row['admin']}, có giá {row['hotel_price']} đồng, nằm tại {row['city']}, địa chỉ {row['address']}, với đường dẫn bản đồ {row['map_link']}, có các tiện ích {row['hotel_features']}, và có các nhà hàng gần nhất:\\n{row['nearest_restaurants']}, mô tả ngắn gọn: {row['short_description']}, mô tả chi tiết: {row['long_description']} \\n\", metadata={\"city\": row['city'], \"type\": \"hotel\"}))\n",
    "    \n",
    "for idx, row in df2.iterrows():\n",
    "    doc.append(Document(page_content=f\"Nhà hàng {row['name']} có địa chỉ {row['address']} với link Map {row['map_link']} có đánh giá {row['rating']}, giờ mở cửa là {row['open_hours']}, website {row['website']}, và số điện thoại là {row['phone']} \\n\", metadata={\"type\": \"restaurant\"}))"
   ]
  },
  {
   "cell_type": "code",
   "execution_count": 12,
   "id": "3b8ab141",
   "metadata": {},
   "outputs": [
    {
     "name": "stderr",
     "output_type": "stream",
     "text": [
      "C:\\Users\\ADmin\\AppData\\Local\\Temp\\ipykernel_35644\\3058350617.py:7: LangChainDeprecationWarning: The class `OpenAIEmbeddings` was deprecated in LangChain 0.0.9 and will be removed in 1.0. An updated version of the class exists in the :class:`~langchain-openai package and should be used instead. To use it run `pip install -U :class:`~langchain-openai` and import as `from :class:`~langchain_openai import OpenAIEmbeddings``.\n",
      "  embeddings = OpenAIEmbeddings()\n"
     ]
    }
   ],
   "source": [
    "from langchain.text_splitter import RecursiveCharacterTextSplitter\n",
    "from langchain.embeddings import OpenAIEmbeddings\n",
    "\n",
    "splitter = RecursiveCharacterTextSplitter(chunk_size=5000, chunk_overlap=50)\n",
    "split_docs = splitter.split_documents(doc)\n",
    "\n",
    "embeddings = OpenAIEmbeddings()\n"
   ]
  },
  {
   "cell_type": "code",
   "execution_count": 13,
   "id": "8f858979",
   "metadata": {},
   "outputs": [
    {
     "name": "stderr",
     "output_type": "stream",
     "text": [
      "C:\\Users\\ADmin\\AppData\\Local\\Temp\\ipykernel_35644\\4072912840.py:9: DeprecationWarning: `recreate_collection` method is deprecated and will be removed in the future. Use `collection_exists` to check collection existence and `create_collection` instead.\n",
      "  client.recreate_collection(\n"
     ]
    }
   ],
   "source": [
    "from langchain.vectorstores import Qdrant\n",
    "from qdrant_client import QdrantClient\n",
    "from qdrant_client.models import Distance, VectorParams\n",
    "\n",
    "# Start Qdrant locally or use cloud, then connect\n",
    "client = QdrantClient(host=\"localhost\", port=6333)\n",
    "\n",
    "# Create collection\n",
    "client.recreate_collection(\n",
    "    collection_name=\"hotels_and_ship_and_restaurants\",\n",
    "    vectors_config=VectorParams(size=1536, distance=Distance.COSINE),\n",
    ")\n",
    "\n",
    "# Index documents\n",
    "vectorstore = Qdrant.from_documents(\n",
    "    documents=split_docs,\n",
    "    embedding=embeddings,\n",
    "    location=\"http://localhost:6333\",\n",
    "    collection_name=\"hotels_and_ship_and_restaurants\"\n",
    ")\n"
   ]
  },
  {
   "cell_type": "markdown",
   "id": "7c047da8",
   "metadata": {},
   "source": [
    "### Reloading vector database"
   ]
  },
  {
   "cell_type": "code",
   "execution_count": 14,
   "id": "d04a1947",
   "metadata": {},
   "outputs": [
    {
     "name": "stderr",
     "output_type": "stream",
     "text": [
      "C:\\Users\\ADmin\\AppData\\Local\\Temp\\ipykernel_35644\\87818345.py:10: LangChainDeprecationWarning: The class `Qdrant` was deprecated in LangChain 0.0.37 and will be removed in 1.0. An updated version of the class exists in the :class:`~langchain-qdrant package and should be used instead. To use it run `pip install -U :class:`~langchain-qdrant` and import as `from :class:`~langchain_qdrant import Qdrant``.\n",
      "  vectorstore = Qdrant(\n"
     ]
    }
   ],
   "source": [
    "from langchain.vectorstores import Qdrant\n",
    "from qdrant_client import QdrantClient\n",
    "from langchain.embeddings import OpenAIEmbeddings\n",
    "\n",
    "# Kết nối lại Qdrant\n",
    "client = QdrantClient(host=\"localhost\", port=6333)\n",
    "embeddings = OpenAIEmbeddings()\n",
    "\n",
    "# Load vectorstore từ collection đã tồn tại\n",
    "vectorstore = Qdrant(\n",
    "    client=client,\n",
    "    collection_name=\"hotels_and_ship_and_restaurants\",\n",
    "    embeddings=embeddings\n",
    ")"
   ]
  },
  {
   "cell_type": "code",
   "execution_count": 15,
   "id": "f6444eb7",
   "metadata": {},
   "outputs": [],
   "source": [
    "# Gọi truy vấn\n",
    "results = vectorstore.similarity_search(\"Xây dựng một tour đi Tràng An và các điểm liên quan 2 ngày 1 đêm\", k=10)"
   ]
  },
  {
   "cell_type": "code",
   "execution_count": 15,
   "id": "78fd42fe",
   "metadata": {},
   "outputs": [],
   "source": [
    "prompt_template = \"\"\"\n",
    "Bạn là một chuyên gia du lịch và có kiến thức đầy đủ về các khách sạn tại Việt Nam. Bạn hãy trả lời câu hỏi của tôi dựa trên thông tin mà tôi đã cung cấp cho bạn. Các câu hỏi chủ yếu về các địa điểm du lịch, và cách xây dựng tour du lịch hợp lí bao gồm khách sạn, nhà hàng cũng như các địa điểm du lịch nổi tiếng gần đó.\n",
    "Dưới đây là thông tin về một khách sạn mà tôi đã tìm thấy: {results}\n",
    "\n",
    "Câu hỏi của tôi là: {question}\n",
    "\n",
    "Hãy cung cấp thông tin chi tiết về khách sạn và nhà hàng mà tôi yêu cầu, sử dụng các thông tin đã có và bổ sung thêm nếu có. Nếu có các thông tin về đường dẫn tới map hay facebook, website của khách sạn hay nhà hàng, hãy cung cấp cho tôi. Nếu không có thông tin nào, hãy nói là không có thông tin nào.\n",
    "\"\"\""
   ]
  },
  {
   "cell_type": "code",
   "execution_count": 16,
   "id": "4f3ffc0e",
   "metadata": {},
   "outputs": [
    {
     "name": "stdout",
     "output_type": "stream",
     "text": [
      "Dưới đây là thông tin chi tiết về khách sạn và nhà hàng mà bạn yêu cầu:\n",
      "\n",
      "### Khách sạn Tam Coc Lion Kings Hotel & Resort, Ninh Bình\n",
      "- **Địa chỉ**: Ninh Bình, cách Chùa Bái Đính 27 km.\n",
      "- **Tiện ích**: Cung cấp xe đạp miễn phí, chỗ đậu xe riêng miễn phí, hồ bơi ngoài trời và khu vườn. Khách sạn có Wi-Fi miễn phí trong các khu vực công cộng.\n",
      "- **Khoảng cách đến các địa điểm nổi tiếng**:\n",
      "  - Cách Tam Cốc Ninh Bình 1.9 km.\n",
      "  - Cách Đền Thung Nắng không xa.\n",
      "  - Cách Boat trip 5 phút đi bộ.\n",
      "  - Cách Phim Trường Kong Skull Island một khoảng cách đi bộ ngắn.\n",
      "- **Sân bay gần nhất**: Cách sân bay Thanh Hóa Thọ Xuân 60 km.\n",
      "- **Bữa sáng**: Phục vụ bữa sáng kiểu lục địa với nhiều món ăn khác nhau.\n",
      "- **Nhà hàng gần nhất**: Nhà hàng Tam Cốc Ninh Bình và Hang Mua Viewpoint cách khách sạn 20 phút đi bộ.\n",
      "\n",
      "### Nhà hàng Ba Cửa\n",
      "- **Địa chỉ**: Tràng An Truong Yen 430000, Ninh Bình.\n",
      "- **Khoảng cách từ khách sạn**: 9.8 km.\n",
      "- **Số điện thoại**: 091 631 16 58.\n",
      "- **Link Google Maps**: [Nhà Hàng Ba Cửa](https://www.bing.com/maps?cp=20.270193099975586%7E105.9135513305664&lvl=17.0&q=Nh%C3%A0%20H%C3%A0ng%20Ba%20C%E1%BB%ADa%20%2C%20Tr%C3%A0ng%20An%20Truong%20Yen%20430000).\n",
      "\n",
      "Nếu bạn cần thêm thông tin hoặc có yêu cầu khác, hãy cho tôi biết!\n"
     ]
    }
   ],
   "source": [
    "messages = model.invoke(prompt_template.format(results=results, question=\"Sửa gợi ý bên trên, cho thông tin khách sạn lên trước tiên\"))\n",
    "print(messages.content)"
   ]
  },
  {
   "cell_type": "code",
   "execution_count": 28,
   "id": "c5cad63c",
   "metadata": {},
   "outputs": [
    {
     "data": {
      "text/plain": [
       "'Dưới đây là gợi ý cho một tour du lịch 2 ngày 1 đêm tại Ninh Bình, bao gồm thông tin về khách sạn, nhà hàng và các địa điểm du lịch nổi tiếng:\\n\\n### Ngày 1:\\n- **Sáng:**\\n  - Khởi hành từ Hà Nội đến Ninh Bình (khoảng 2 giờ đi xe).\\n  - Tham quan **Khu du lịch Tràng An**, một trong những di sản thế giới được UNESCO công nhận. Bạn có thể tham gia tour thuyền để khám phá các hang động và cảnh quan thiên nhiên tuyệt đẹp.\\n\\n- **Trưa:**\\n  - Ăn trưa tại **Nhà Hàng Hương Sen**.\\n    - Địa chỉ: Hoa Lư - Ninh Bình, Ninh Bình.\\n    - Khoảng cách từ Tràng An: 6.9 km.\\n    - [Link Google Maps](https://www.bing.com/maps?cp=20.283302307128906%7E105.89414978027344&lvl=17.0&q=Nh%C3%A0%20H%C3%A0ng%20H%C6%B0%C6%A1ng%20Sen%20%2C%20Hoa%20L%C6%B0%20-%20Ninh%20B%C3%ACnh%20Ninh%20B%C3%ACnh%20Ninh%20B%C3%ACnh)\\n    - Website: [Facebook](https://www.facebook.com/people/Nh%C3%A0-H%C3%A0ng-H%C6%B0%C6%A1ng-Sen/100066761656887/)\\n    - Phone: 097 752 54 70\\n\\n- **Chiều:**\\n  - Tham quan **Chùa Bái Đính**, ngôi chùa lớn nhất Việt Nam với nhiều kỷ lục.\\n  - Di chuyển đến khách sạn để nhận phòng và nghỉ ngơi.\\n\\n- **Khách sạn:**\\n  - **Ninh Bình Legend Hotel**\\n    - Địa chỉ: Đường Lê Thái Tổ, Khu Tiền Đồng - Phường Ninh Khánh – TP. Ninh Bình.\\n    - Giá: 1,550,000 đồng/đêm.\\n    - Tiện ích: Phòng có bồn tắm, Lễ tân 24h, Wifi miễn phí, Bể bơi ngoài trời, Nhà hàng, Ban công/Cửa sổ.\\n    - [Link Google Maps](https://maps.app.goo.gl/cmcKohNWmDTbHEvB9)\\n\\n- **Tối:**\\n  - Ăn tối tại **Nhà Hàng Cao Sơn**.\\n    - Địa chỉ: Bai Dinh - Trang An Gia Sinh.\\n    - Khoảng cách từ khách sạn: 1.9 km.\\n    - [Link Google Maps](https://www.bing.com/maps?cp=20.285804748535156%7E105.86241912841797&lvl=17.0&q=Nh%C3%A0%20H%C3%A0ng%20Cao%20S%C6%A1n%20%2C%20Bai%20inh%20-%20Trang%20An%20Gia%20Sinh%2040000)\\n    - Website: [Facebook](https://www.facebook.com/www.nhahangcaoson.net/)\\n    - Phone: 090 466 87 69\\n\\n### Ngày 2:\\n- **Sáng:**\\n  - Tham quan **Khu du lịch Tam Cốc – Bích Động**, nơi được mệnh danh là \"Vịnh Hạ Long trên cạn\".\\n  - Tham gia tour thuyền để khám phá các hang động và cảnh quan thiên nhiên.\\n\\n- **Trưa:**\\n  - Ăn trưa tại **Mountain Restaurant**.\\n    - Địa chỉ: Đội 7 Khả Lương Ninh Thắng Hoa Lư Ninh Bình.\\n    - Khoảng cách từ Tam Cốc: 4.5 km.\\n    - [Link Google Maps](https://www.bing.com/maps?cp=20.23332977294922%7E105.9000015258789&lvl=17.0&q=Mountain%20Restaurant%20%2C%20%C4%90%E1%BB%99i%207%20Kh%E1%BA%A3%20L%C6%B0%C6%A1ng%20Ninh%20Th%E1%BA%AFng%20Hoa%20L%C6%B0%20Ninh%20B%C3%ACnh%20Ninh%20Binh)\\n    - Open 24 hours\\n\\n- **Chiều:**\\n  - Tham quan **Hang Múa**, nơi bạn có thể leo lên đỉnh núi để ngắm toàn cảnh Tam Cốc.\\n  - Kết thúc chuyến đi và trở về Hà Nội.\\n\\n### Lưu ý:\\n- Các địa điểm tham quan có thể thay đổi thứ tự tùy theo thời gian và sở thích cá nhân.\\n- Nên đặt trước khách sạn và nhà hàng để đảm bảo chỗ.\\n- Mang theo trang phục thoải mái và giày thể thao để dễ dàng di chuyển và tham quan.'"
      ]
     },
     "execution_count": 28,
     "metadata": {},
     "output_type": "execute_result"
    }
   ],
   "source": [
    "messages.content"
   ]
  },
  {
   "cell_type": "code",
   "execution_count": 11,
   "id": "76e8cedf",
   "metadata": {},
   "outputs": [
    {
     "name": "stdout",
     "output_type": "stream",
     "text": [
      "<Document href=\"https://eholiday.vn/tour-trang-an-bai-dinh-2-ngay-1-dem/\">\n",
      "Tour Tràng An Bái Đính 2 ngày 1 đêm sẽ đưa quý khách đi du ngoạn những địa danh đẹp và nổi tiếng nhất tại Ninh Bình như: Chùa Bái Đính - ngôi chùa được mệnh\n",
      "</Document>\n",
      "\n",
      "---\n",
      "\n",
      "<Document href=\"https://thesinhtour.com/tour-ninh-binh-2-ngay-1-dem-tu-ha-noi/?srsltid=AfmBOoqcFwtC6Mw-Y2khQbmPc5C8QvTy7SMnlbO4umWmfPyjX17vmz6Z\">\n",
      "Với tuyến này quý khách có cơ hội tham quan 4 hang động tự nhiên trong số những hang động đẹp nhất trong khu du lịch Tràng An là Hang Lấm, Hang Vạng, Hang Thánh Trượt và hang cuối cùng là Hang Đại. Tuyến này sẽ rất phù hợp với những bạn trẻ, những người thích chụp ảnh Check in, quý khách có thể có những trải nghiệm đầy đủ về hành trình ngồi đò thăm hang cũng như có thể lưu lại những cảm xúc, những bức hình đẹp trong hành trình về thăm Tràng An – Di sản văn hòa và thiên nhiên thế giới! [...] 12h00| Quý khách về nhà hàng nghỉ ngơi ăn trưa, cùng thưởng thức các đặc sản nơi đây (Cơm cháy, dê núi…)\n",
      "\n",
      "13h30| Sau bữa trưa, xe và hướng dẫn đưa du khách ra bến đò Tràng An lên thuyền đi dọc theo suối giữa cánh đồng lúa thăm khu du lịch Tràng An Mới với những dải đá vôi, thung lũng và những sông ngòi đan xen tạo nên một không gian huyền ảo, kỳ bí.\n",
      "\n",
      "Di sản Tràng An [...] Bạn đang tìm kiếm một chuyến đi thư giãn, hòa mình vào thiên nhiên và khám phá những di sản nổi tiếng? Tour Ninh Bình 2 ngày 1 đêm từ Hà Nội sẽ đưa bạn đến những điểm đến tuyệt đẹp như cố đô Hoa Lư, Tam Cốc, Hang Múa, chùa Bái Đính, quần thể danh thắng Tràng An, mang đến trải nghiệm trọn vẹn về thiên nhiên, văn hóa và lịch sử.\n",
      "</Document>\n",
      "\n",
      "---\n",
      "\n",
      "<Document href=\"https://sinhtour.vn/tour-bai-dinh-trang-an-2-ngay-1-dem/\">\n",
      "Tour Bái Đính - Tràng An 2 ngày 1 đêm của Sinhtour.vn sẽ đưa quý khách đi du ngoạn những địa danh đẹp nhất tại Ninh Bình. Trong đó phải kể đến như: Chùa Bái\n",
      "</Document>\n"
     ]
    }
   ],
   "source": [
    "from langchain_community.tools import TavilySearchResults\n",
    "\n",
    "tavily_search = TavilySearchResults(max_results=3)\n",
    "search_docs = tavily_search.invoke(\"Gợi ý tour du lịch Tràng An 2 ngày 1 đêm\")\n",
    "\n",
    "     # Format\n",
    "formatted_search_docs = \"\\n\\n---\\n\\n\".join(\n",
    "    [\n",
    "        f'<Document href=\"{doc[\"url\"]}\">\\n{doc[\"content\"]}\\n</Document>'\n",
    "        for doc in search_docs\n",
    "    ]\n",
    ")\n",
    "print(formatted_search_docs)"
   ]
  },
  {
   "cell_type": "code",
   "execution_count": null,
   "id": "372aaaf7",
   "metadata": {},
   "outputs": [],
   "source": []
  }
 ],
 "metadata": {
  "kernelspec": {
   "display_name": "Python 3",
   "language": "python",
   "name": "python3"
  },
  "language_info": {
   "codemirror_mode": {
    "name": "ipython",
    "version": 3
   },
   "file_extension": ".py",
   "mimetype": "text/x-python",
   "name": "python",
   "nbconvert_exporter": "python",
   "pygments_lexer": "ipython3",
   "version": "3.12.2"
  }
 },
 "nbformat": 4,
 "nbformat_minor": 5
}
