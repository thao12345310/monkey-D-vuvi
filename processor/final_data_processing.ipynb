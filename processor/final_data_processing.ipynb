{
 "cells": [
  {
   "metadata": {},
   "cell_type": "markdown",
   "source": "# Clean data",
   "id": "dd663b18ce07e875"
  },
  {
   "cell_type": "code",
   "id": "initial_id",
   "metadata": {
    "collapsed": true,
    "ExecuteTime": {
     "end_time": "2025-05-09T01:13:49.999756Z",
     "start_time": "2025-05-09T01:13:49.617501Z"
    }
   },
   "source": "import pandas as pd",
   "outputs": [],
   "execution_count": 1
  },
  {
   "metadata": {
    "ExecuteTime": {
     "end_time": "2025-05-09T01:13:50.034965Z",
     "start_time": "2025-05-09T01:13:50.006531Z"
    }
   },
   "cell_type": "code",
   "source": [
    "df_hotel = pd.read_csv(\"../data/hotel/hotel.csv\")\n",
    "df_ship = pd.read_csv(\"../data/ship/ship.csv\")"
   ],
   "id": "9eb99ba32f0e3043",
   "outputs": [],
   "execution_count": 2
  },
  {
   "metadata": {
    "ExecuteTime": {
     "end_time": "2025-05-09T01:13:50.332057Z",
     "start_time": "2025-05-09T01:13:50.323099Z"
    }
   },
   "cell_type": "code",
   "source": [
    "df_hotel.drop(['hotel_features', 'short_description', 'long_description'], axis=1, inplace=True)\n",
    "df_hotel.rename(columns={'admin': 'company_name'}, inplace=True)"
   ],
   "id": "7d633a114bfc6acc",
   "outputs": [],
   "execution_count": 3
  },
  {
   "metadata": {
    "ExecuteTime": {
     "end_time": "2025-05-09T01:13:50.362918Z",
     "start_time": "2025-05-09T01:13:50.350154Z"
    }
   },
   "cell_type": "code",
   "source": [
    "df_ship.drop(['ship_features', 'short_description', 'long_description'], axis=1, inplace=True)\n",
    "df_ship.rename(columns={'admin': 'company_name'}, inplace=True)"
   ],
   "id": "f1cfb7370cad47d8",
   "outputs": [],
   "execution_count": 4
  },
  {
   "metadata": {},
   "cell_type": "markdown",
   "source": "# Add company_id to hotel, ship",
   "id": "c35c238980d91cc"
  },
  {
   "metadata": {
    "ExecuteTime": {
     "end_time": "2025-05-09T01:13:50.393596Z",
     "start_time": "2025-05-09T01:13:50.380814Z"
    }
   },
   "cell_type": "code",
   "source": [
    "distinct_hotel_companies = df_hotel['company_name'].dropna().unique()\n",
    "df_company = pd.DataFrame(distinct_hotel_companies, columns=['company_name'])\n",
    "df_company['company_id'] = range(1, len(df_company) + 1)"
   ],
   "id": "5164ea8b8763de14",
   "outputs": [],
   "execution_count": 5
  },
  {
   "metadata": {
    "ExecuteTime": {
     "end_time": "2025-05-09T01:13:50.426464Z",
     "start_time": "2025-05-09T01:13:50.416639Z"
    }
   },
   "cell_type": "code",
   "source": [
    "distinct_ship_companies = df_ship['company_name'].dropna().unique()\n",
    "df_ship_company = pd.DataFrame(distinct_ship_companies, columns=['company_name'])\n",
    "df_company = pd.concat([df_company, df_ship_company], ignore_index=True)\n",
    "df_company = df_company.drop_duplicates(subset=['company_name']).reset_index(drop=True)\n",
    "df_company['company_id'] = range(1, len(df_company) + 1)\n",
    "df_company = df_company[['company_id'] + [col for col in df_company.columns if col != 'company_id']]"
   ],
   "id": "8db5cba8d65aeb0b",
   "outputs": [],
   "execution_count": 6
  },
  {
   "metadata": {
    "ExecuteTime": {
     "end_time": "2025-05-09T01:13:50.471264Z",
     "start_time": "2025-05-09T01:13:50.450945Z"
    }
   },
   "cell_type": "code",
   "source": [
    "df_hotel = df_hotel.merge(df_company[['company_id', 'company_name']], how=\"left\", on=\"company_name\")\n",
    "df_ship = df_ship.merge(df_company[['company_id', 'company_name']], how=\"left\", on=\"company_name\")\n",
    "\n",
    "df_ship['company_id'] = df_ship['company_id'].fillna(0).astype(int)"
   ],
   "id": "45f48203073474fe",
   "outputs": [],
   "execution_count": 7
  },
  {
   "metadata": {
    "ExecuteTime": {
     "end_time": "2025-05-09T01:13:50.540379Z",
     "start_time": "2025-05-09T01:13:50.525850Z"
    }
   },
   "cell_type": "code",
   "source": [
    "df_hotel.to_csv(\"../final_data/hotel/hotel.csv\", index=False, encoding=\"utf-8\")\n",
    "df_ship.to_csv(\"../final_data/ship/ship.csv\", index=False, encoding=\"utf-8\")"
   ],
   "id": "4b54f7998e0fd291",
   "outputs": [],
   "execution_count": 8
  },
  {
   "metadata": {
    "ExecuteTime": {
     "end_time": "2025-05-09T01:13:50.568271Z",
     "start_time": "2025-05-09T01:13:50.547593Z"
    }
   },
   "cell_type": "code",
   "source": [
    "df_company['username'] = 'company' + df_company['company_id'].astype(str)\n",
    "df_company['password'] = '123456'\n",
    "df_company['role'] = 'company'"
   ],
   "id": "4d176aef12221ac5",
   "outputs": [],
   "execution_count": 9
  },
  {
   "metadata": {
    "ExecuteTime": {
     "end_time": "2025-05-09T01:13:50.607627Z",
     "start_time": "2025-05-09T01:13:50.596522Z"
    }
   },
   "cell_type": "code",
   "source": "df_company.to_csv(\"../final_data/company.csv\", index=False, encoding=\"utf-8\")",
   "id": "cb6050badd5a6405",
   "outputs": [],
   "execution_count": 10
  },
  {
   "metadata": {},
   "cell_type": "markdown",
   "source": "# Feature",
   "id": "3d9cf7b8e01124fd"
  },
  {
   "metadata": {
    "ExecuteTime": {
     "end_time": "2025-05-09T01:13:50.657670Z",
     "start_time": "2025-05-09T01:13:50.630186Z"
    }
   },
   "cell_type": "code",
   "source": "df_feature = pd.read_csv(\"../data/feature.csv\")",
   "id": "e3f7695be3e87a0f",
   "outputs": [],
   "execution_count": 11
  },
  {
   "metadata": {
    "ExecuteTime": {
     "end_time": "2025-05-09T01:13:50.704561Z",
     "start_time": "2025-05-09T01:13:50.692296Z"
    }
   },
   "cell_type": "code",
   "source": "df_feature.drop(['default_id'], axis=1, inplace=True)",
   "id": "c18d5d8f320d1fed",
   "outputs": [],
   "execution_count": 12
  },
  {
   "metadata": {
    "ExecuteTime": {
     "end_time": "2025-05-09T01:13:50.749302Z",
     "start_time": "2025-05-09T01:13:50.739029Z"
    }
   },
   "cell_type": "code",
   "source": "df_feature.to_csv(\"../final_data/feature.csv\", index=False, encoding=\"utf-8\")",
   "id": "645cc4f1f052beae",
   "outputs": [],
   "execution_count": 13
  }
 ],
 "metadata": {
  "kernelspec": {
   "display_name": "Python 3",
   "language": "python",
   "name": "python3"
  },
  "language_info": {
   "codemirror_mode": {
    "name": "ipython",
    "version": 2
   },
   "file_extension": ".py",
   "mimetype": "text/x-python",
   "name": "python",
   "nbconvert_exporter": "python",
   "pygments_lexer": "ipython2",
   "version": "2.7.6"
  }
 },
 "nbformat": 4,
 "nbformat_minor": 5
}
