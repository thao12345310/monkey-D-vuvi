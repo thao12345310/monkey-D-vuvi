{
 "cells": [
  {
   "metadata": {},
   "cell_type": "markdown",
   "source": "# Clean data",
   "id": "dd663b18ce07e875"
  },
  {
   "cell_type": "code",
   "id": "initial_id",
   "metadata": {
    "collapsed": true,
    "ExecuteTime": {
     "end_time": "2025-04-09T13:49:42.717339Z",
     "start_time": "2025-04-09T13:49:42.712063Z"
    }
   },
   "source": "import pandas as pd",
   "outputs": [],
   "execution_count": 192
  },
  {
   "metadata": {
    "ExecuteTime": {
     "end_time": "2025-04-09T13:49:42.787997Z",
     "start_time": "2025-04-09T13:49:42.759649Z"
    }
   },
   "cell_type": "code",
   "source": [
    "df_hotel = pd.read_csv(\"../data/hotel/hotel.csv\")\n",
    "df_ship = pd.read_csv(\"../data/ship/ship.csv\")"
   ],
   "id": "9eb99ba32f0e3043",
   "outputs": [],
   "execution_count": 193
  },
  {
   "metadata": {
    "ExecuteTime": {
     "end_time": "2025-04-09T13:49:42.807338Z",
     "start_time": "2025-04-09T13:49:42.792991Z"
    }
   },
   "cell_type": "code",
   "source": [
    "df_hotel.drop(['hotel_features', 'short_description', 'long_description'], axis=1, inplace=True)\n",
    "df_hotel.rename(columns={'admin': 'company_name'}, inplace=True)"
   ],
   "id": "7d633a114bfc6acc",
   "outputs": [],
   "execution_count": 194
  },
  {
   "metadata": {
    "ExecuteTime": {
     "end_time": "2025-04-09T13:49:42.837425Z",
     "start_time": "2025-04-09T13:49:42.829083Z"
    }
   },
   "cell_type": "code",
   "source": [
    "df_ship.drop(['ship_features', 'short_description', 'long_description'], axis=1, inplace=True)\n",
    "df_ship.rename(columns={'admin': 'company_name'}, inplace=True)"
   ],
   "id": "f1cfb7370cad47d8",
   "outputs": [],
   "execution_count": 195
  },
  {
   "metadata": {},
   "cell_type": "markdown",
   "source": "# Add company_id to hotel, ship",
   "id": "c35c238980d91cc"
  },
  {
   "metadata": {
    "ExecuteTime": {
     "end_time": "2025-04-09T13:49:42.885444Z",
     "start_time": "2025-04-09T13:49:42.872828Z"
    }
   },
   "cell_type": "code",
   "source": [
    "distinct_hotel_companies = df_hotel['company_name'].dropna().unique()\n",
    "df_company = pd.DataFrame(distinct_hotel_companies, columns=['company_name'])\n",
    "df_company['company_id'] = range(1, len(df_company) + 1)"
   ],
   "id": "5164ea8b8763de14",
   "outputs": [],
   "execution_count": 196
  },
  {
   "metadata": {
    "ExecuteTime": {
     "end_time": "2025-04-09T13:49:42.931615Z",
     "start_time": "2025-04-09T13:49:42.919288Z"
    }
   },
   "cell_type": "code",
   "source": [
    "distinct_ship_companies = df_ship['company_name'].dropna().unique()\n",
    "df_ship_company = pd.DataFrame(distinct_ship_companies, columns=['company_name'])\n",
    "df_company = pd.concat([df_company, df_ship_company], ignore_index=True)\n",
    "df_company = df_company.drop_duplicates(subset=['company_name']).reset_index(drop=True)\n",
    "df_company['company_id'] = range(1, len(df_company) + 1)\n",
    "df_company = df_company[['company_id'] + [col for col in df_company.columns if col != 'company_id']]\n",
    "df_company.to_csv(\"../final_data/company.csv\", index=False, encoding=\"utf-8\")"
   ],
   "id": "8db5cba8d65aeb0b",
   "outputs": [],
   "execution_count": 197
  },
  {
   "metadata": {
    "ExecuteTime": {
     "end_time": "2025-04-09T13:49:42.977405Z",
     "start_time": "2025-04-09T13:49:42.964872Z"
    }
   },
   "cell_type": "code",
   "source": [
    "df_hotel = df_hotel.merge(df_company[['company_id', 'company_name']], how=\"left\", on=\"company_name\")\n",
    "df_ship = df_ship.merge(df_company[['company_id', 'company_name']], how=\"left\", on=\"company_name\")"
   ],
   "id": "45f48203073474fe",
   "outputs": [],
   "execution_count": 198
  },
  {
   "metadata": {
    "ExecuteTime": {
     "end_time": "2025-04-09T13:49:43.017362Z",
     "start_time": "2025-04-09T13:49:42.999633Z"
    }
   },
   "cell_type": "code",
   "source": [
    "df_hotel.to_csv(\"../final_data/hotel/hotel.csv\", index=False, encoding=\"utf-8\")\n",
    "df_ship.to_csv(\"../final_data/ship/ship.csv\", index=False, encoding=\"utf-8\")"
   ],
   "id": "4b54f7998e0fd291",
   "outputs": [],
   "execution_count": 199
  },
  {
   "metadata": {},
   "cell_type": "markdown",
   "source": "",
   "id": "3d9cf7b8e01124fd"
  },
  {
   "metadata": {
    "ExecuteTime": {
     "end_time": "2025-04-09T13:49:43.057506Z",
     "start_time": "2025-04-09T13:49:43.049463Z"
    }
   },
   "cell_type": "code",
   "source": "",
   "id": "e3f7695be3e87a0f",
   "outputs": [],
   "execution_count": null
  }
 ],
 "metadata": {
  "kernelspec": {
   "display_name": "Python 3",
   "language": "python",
   "name": "python3"
  },
  "language_info": {
   "codemirror_mode": {
    "name": "ipython",
    "version": 2
   },
   "file_extension": ".py",
   "mimetype": "text/x-python",
   "name": "python",
   "nbconvert_exporter": "python",
   "pygments_lexer": "ipython2",
   "version": "2.7.6"
  }
 },
 "nbformat": 4,
 "nbformat_minor": 5
}
