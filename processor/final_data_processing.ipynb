{
 "cells": [
  {
   "metadata": {},
   "cell_type": "markdown",
   "source": "# Clean data",
   "id": "dd663b18ce07e875"
  },
  {
   "cell_type": "code",
   "id": "initial_id",
   "metadata": {
    "collapsed": true,
    "ExecuteTime": {
     "end_time": "2025-04-09T15:17:57.791584Z",
     "start_time": "2025-04-09T15:17:57.786579Z"
    }
   },
   "source": "import pandas as pd",
   "outputs": [],
   "execution_count": 60
  },
  {
   "metadata": {
    "ExecuteTime": {
     "end_time": "2025-04-09T15:17:57.861872Z",
     "start_time": "2025-04-09T15:17:57.836662Z"
    }
   },
   "cell_type": "code",
   "source": [
    "df_hotel = pd.read_csv(\"../data/hotel/hotel.csv\")\n",
    "df_ship = pd.read_csv(\"../data/ship/ship.csv\")"
   ],
   "id": "9eb99ba32f0e3043",
   "outputs": [],
   "execution_count": 61
  },
  {
   "metadata": {
    "ExecuteTime": {
     "end_time": "2025-04-09T15:17:57.891158Z",
     "start_time": "2025-04-09T15:17:57.880142Z"
    }
   },
   "cell_type": "code",
   "source": [
    "df_hotel.drop(['hotel_features', 'short_description', 'long_description'], axis=1, inplace=True)\n",
    "df_hotel.rename(columns={'admin': 'company_name'}, inplace=True)"
   ],
   "id": "7d633a114bfc6acc",
   "outputs": [],
   "execution_count": 62
  },
  {
   "metadata": {
    "ExecuteTime": {
     "end_time": "2025-04-09T15:17:57.965735Z",
     "start_time": "2025-04-09T15:17:57.951515Z"
    }
   },
   "cell_type": "code",
   "source": [
    "df_ship.drop(['ship_features', 'short_description', 'long_description'], axis=1, inplace=True)\n",
    "df_ship.rename(columns={'admin': 'company_name'}, inplace=True)"
   ],
   "id": "f1cfb7370cad47d8",
   "outputs": [],
   "execution_count": 63
  },
  {
   "metadata": {},
   "cell_type": "markdown",
   "source": "# Add company_id to hotel, ship",
   "id": "c35c238980d91cc"
  },
  {
   "metadata": {
    "ExecuteTime": {
     "end_time": "2025-04-09T15:17:57.980727Z",
     "start_time": "2025-04-09T15:17:57.971732Z"
    }
   },
   "cell_type": "code",
   "source": [
    "distinct_hotel_companies = df_hotel['company_name'].dropna().unique()\n",
    "df_company = pd.DataFrame(distinct_hotel_companies, columns=['company_name'])\n",
    "df_company['company_id'] = range(1, len(df_company) + 1)"
   ],
   "id": "5164ea8b8763de14",
   "outputs": [],
   "execution_count": 64
  },
  {
   "metadata": {
    "ExecuteTime": {
     "end_time": "2025-04-09T15:17:58.024671Z",
     "start_time": "2025-04-09T15:17:58.013805Z"
    }
   },
   "cell_type": "code",
   "source": [
    "distinct_ship_companies = df_ship['company_name'].dropna().unique()\n",
    "df_ship_company = pd.DataFrame(distinct_ship_companies, columns=['company_name'])\n",
    "df_company = pd.concat([df_company, df_ship_company], ignore_index=True)\n",
    "df_company = df_company.drop_duplicates(subset=['company_name']).reset_index(drop=True)\n",
    "df_company['company_id'] = range(1, len(df_company) + 1)\n",
    "df_company = df_company[['company_id'] + [col for col in df_company.columns if col != 'company_id']]"
   ],
   "id": "8db5cba8d65aeb0b",
   "outputs": [],
   "execution_count": 65
  },
  {
   "metadata": {
    "ExecuteTime": {
     "end_time": "2025-04-09T15:17:58.071368Z",
     "start_time": "2025-04-09T15:17:58.058368Z"
    }
   },
   "cell_type": "code",
   "source": [
    "df_hotel = df_hotel.merge(df_company[['company_id', 'company_name']], how=\"left\", on=\"company_name\")\n",
    "df_ship = df_ship.merge(df_company[['company_id', 'company_name']], how=\"left\", on=\"company_name\")\n",
    "\n",
    "df_ship['company_id'] = df_ship['company_id'].fillna(0).astype(int)"
   ],
   "id": "45f48203073474fe",
   "outputs": [],
   "execution_count": 66
  },
  {
   "metadata": {
    "ExecuteTime": {
     "end_time": "2025-04-09T15:17:58.118245Z",
     "start_time": "2025-04-09T15:17:58.100739Z"
    }
   },
   "cell_type": "code",
   "source": [
    "df_hotel.to_csv(\"../final_data/hotel/hotel.csv\", index=False, encoding=\"utf-8\")\n",
    "df_ship.to_csv(\"../final_data/ship/ship.csv\", index=False, encoding=\"utf-8\")"
   ],
   "id": "4b54f7998e0fd291",
   "outputs": [],
   "execution_count": 67
  },
  {
   "metadata": {
    "ExecuteTime": {
     "end_time": "2025-04-09T15:17:58.163932Z",
     "start_time": "2025-04-09T15:17:58.152937Z"
    }
   },
   "cell_type": "code",
   "source": [
    "df_company['username'] = 'company' + df_company['company_id'].astype(str)\n",
    "df_company['password'] = '123456'\n",
    "df_company['role'] = 'company'"
   ],
   "id": "4d176aef12221ac5",
   "outputs": [],
   "execution_count": 68
  },
  {
   "metadata": {
    "ExecuteTime": {
     "end_time": "2025-04-09T15:17:58.209779Z",
     "start_time": "2025-04-09T15:17:58.199097Z"
    }
   },
   "cell_type": "code",
   "source": "df_company.to_csv(\"../final_data/company.csv\", index=False, encoding=\"utf-8\")",
   "id": "cb6050badd5a6405",
   "outputs": [],
   "execution_count": 69
  },
  {
   "metadata": {},
   "cell_type": "markdown",
   "source": "# Feature",
   "id": "3d9cf7b8e01124fd"
  },
  {
   "metadata": {
    "ExecuteTime": {
     "end_time": "2025-04-09T15:17:58.254775Z",
     "start_time": "2025-04-09T15:17:58.241779Z"
    }
   },
   "cell_type": "code",
   "source": "df_feature = pd.read_csv(\"../data/feature.csv\")",
   "id": "e3f7695be3e87a0f",
   "outputs": [],
   "execution_count": 70
  },
  {
   "metadata": {
    "ExecuteTime": {
     "end_time": "2025-04-09T15:17:58.301037Z",
     "start_time": "2025-04-09T15:17:58.287796Z"
    }
   },
   "cell_type": "code",
   "source": "df_feature.drop(['default_id'], axis=1, inplace=True)",
   "id": "c18d5d8f320d1fed",
   "outputs": [],
   "execution_count": 71
  },
  {
   "metadata": {
    "ExecuteTime": {
     "end_time": "2025-04-09T15:17:58.379573Z",
     "start_time": "2025-04-09T15:17:58.365458Z"
    }
   },
   "cell_type": "code",
   "source": "df_feature.to_csv(\"../final_data/feature.csv\", index=False, encoding=\"utf-8\")",
   "id": "645cc4f1f052beae",
   "outputs": [],
   "execution_count": 72
  },
  {
   "metadata": {
    "ExecuteTime": {
     "end_time": "2025-04-09T15:17:58.425682Z",
     "start_time": "2025-04-09T15:17:58.412677Z"
    }
   },
   "cell_type": "code",
   "source": "df_ship.info()",
   "id": "335966496cb912ce",
   "outputs": [
    {
     "name": "stdout",
     "output_type": "stream",
     "text": [
      "<class 'pandas.core.frame.DataFrame'>\n",
      "RangeIndex: 71 entries, 0 to 70\n",
      "Data columns (total 11 columns):\n",
      " #   Column        Non-Null Count  Dtype \n",
      "---  ------        --------------  ----- \n",
      " 0   ship_id       71 non-null     int64 \n",
      " 1   ship_name     71 non-null     object\n",
      " 2   launch        71 non-null     int64 \n",
      " 3   cabin         71 non-null     int64 \n",
      " 4   shell         71 non-null     object\n",
      " 5   trip          71 non-null     object\n",
      " 6   company_name  65 non-null     object\n",
      " 7   ship_price    71 non-null     int64 \n",
      " 8   address       71 non-null     object\n",
      " 9   map_link      71 non-null     object\n",
      " 10  company_id    71 non-null     int64 \n",
      "dtypes: int64(5), object(6)\n",
      "memory usage: 6.2+ KB\n"
     ]
    }
   ],
   "execution_count": 73
  }
 ],
 "metadata": {
  "kernelspec": {
   "display_name": "Python 3",
   "language": "python",
   "name": "python3"
  },
  "language_info": {
   "codemirror_mode": {
    "name": "ipython",
    "version": 2
   },
   "file_extension": ".py",
   "mimetype": "text/x-python",
   "name": "python",
   "nbconvert_exporter": "python",
   "pygments_lexer": "ipython2",
   "version": "2.7.6"
  }
 },
 "nbformat": 4,
 "nbformat_minor": 5
}
