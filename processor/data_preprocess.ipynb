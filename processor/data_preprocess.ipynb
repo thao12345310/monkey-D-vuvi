{
 "cells": [
  {
   "cell_type": "code",
   "id": "initial_id",
   "metadata": {
    "collapsed": true,
    "ExecuteTime": {
     "end_time": "2025-04-04T20:02:13.629129Z",
     "start_time": "2025-04-04T20:02:13.613082Z"
    }
   },
   "source": [
    "import pandas as pd\n",
    "import numpy as np\n",
    "import requests\n",
    "import re"
   ],
   "outputs": [],
   "execution_count": 18
  },
  {
   "metadata": {
    "ExecuteTime": {
     "end_time": "2025-04-04T19:13:52.639880Z",
     "start_time": "2025-04-04T19:13:52.587845Z"
    }
   },
   "cell_type": "code",
   "source": "df_hotel = pd.read_csv(\"../data/hotel.csv\")",
   "id": "76eb837702034ae",
   "outputs": [],
   "execution_count": 2
  },
  {
   "metadata": {
    "ExecuteTime": {
     "end_time": "2025-04-04T19:35:45.696310Z",
     "start_time": "2025-04-04T19:35:45.687764Z"
    }
   },
   "cell_type": "code",
   "source": [
    "def expand_google_maps_short_url(short_url):\n",
    "    try:\n",
    "        print(f\"Processing URL: {short_url}\")\n",
    "        response = requests.head(short_url, allow_redirects=True)\n",
    "        return response.url\n",
    "    except requests.exceptions.MissingSchema as e:\n",
    "        print(f\"Error: {e}\")\n",
    "        return None"
   ],
   "id": "17797a7ae598861b",
   "outputs": [],
   "execution_count": 10
  },
  {
   "metadata": {
    "ExecuteTime": {
     "end_time": "2025-04-04T19:35:57.586176Z",
     "start_time": "2025-04-04T19:35:57.573633Z"
    }
   },
   "cell_type": "code",
   "source": [
    "def extract_coordinates(url):\n",
    "    if url:\n",
    "        match = re.search(r\"@([-\\d.]+),([-\\d.]+)\", url)\n",
    "        if match:\n",
    "            return match.groups()\n",
    "    return None, None"
   ],
   "id": "699abb0f257920db",
   "outputs": [],
   "execution_count": 11
  },
  {
   "metadata": {
    "ExecuteTime": {
     "end_time": "2025-04-04T19:45:04.019131Z",
     "start_time": "2025-04-04T19:40:04.483799Z"
    }
   },
   "cell_type": "code",
   "source": "df_hotel['latitude'], df_hotel['longitude'] = zip(*df_hotel['map_link'].apply(lambda x: extract_coordinates(expand_google_maps_short_url(x))))",
   "id": "3edbb41aa3ddcfc5",
   "outputs": [
    {
     "name": "stdout",
     "output_type": "stream",
     "text": [
      "Processing URL: https://maps.app.goo.gl/yxDCjgQvorHL43xX9\n",
      "Processing URL: https://maps.app.goo.gl/yseMCyJmvGiZ1t7v9\n",
      "Processing URL: https://maps.app.goo.gl/8EyutG7DHVyU4Xf88\n",
      "Processing URL: https://maps.app.goo.gl/A5ueMVJi4M7CXhJG7\n",
      "Processing URL: https://maps.app.goo.gl/EMV8uhrwSEetkPX17\n",
      "Processing URL: https://maps.app.goo.gl/XFintsABhCX4AcNX9\n",
      "Processing URL: https://maps.app.goo.gl/PQT1qXD6QYLGkEyw6\n",
      "Processing URL: https://maps.app.goo.gl/KSHsLTBRXLpVJD2CA\n",
      "Processing URL: https://maps.app.goo.gl/6GaKNa51pvU1X4dA6\n",
      "Processing URL: https://maps.app.goo.gl/RbDpNZqAw6GkzqUx5\n",
      "Processing URL: https://www.google.com/maps/place/Kh%C3%A1ch+s%E1%BA%A1n+Royal+Khanh/@13.0891852,109.3137021,15z/data=!4m18!1m8!3m7!1s0x316fec3f678090e3:0x1b417dd1a626ce32!2zNjggTmd1eeG7hW4gSHXhu4csIFBoxrDhu51uZyA1LCBUdXkgSMOyYSwgUGjDuiBZw6puIDYyMDAwMCwgVmnhu4d0IE5hbQ!3b1!8m2!3d13.0918291!4d109.3069429!16s%2Fg%2F11h4cwtsp0!3m8!1s0x316fedef8c5701fd:0x37bb2034ba363293!5m2!4m1!1i2!8m2!3d13.0918291!4d109.3069429!16s%2Fg%2F11fwm787jv?hl=vi-VN&entry=ttu&g_ep=EgoyMDI0MDgyMC4xIKXMDSoASAFQAw%3D%3D\n",
      "Processing URL: https://maps.app.goo.gl/8GsotEzAyhox2Fmp6\n",
      "Processing URL: https://maps.app.goo.gl/ybviBzR7cfoa1bYs7\n",
      "Processing URL: https://maps.app.goo.gl/n1ArWHkdiZ83YCm6A\n",
      "Processing URL: https://maps.app.goo.gl/m6dq7crkJWWk94pB6\n",
      "Processing URL: https://maps.app.goo.gl/FwrcgDy75wNwNM386\n",
      "Processing URL: https://maps.app.goo.gl/BXBiDBEnbL948rXP7\n",
      "Processing URL: https://maps.app.goo.gl/R9nCLqDGmYAkYAYw6\n",
      "Processing URL: https://maps.app.goo.gl/Ri7QJ3cQR9d3yZbk8\n",
      "Processing URL: https://maps.app.goo.gl/4YL88BC7nEtrW6tNA\n",
      "Processing URL: https://maps.app.goo.gl/zgryBU8Pa768CxR16\n",
      "Processing URL: https://maps.app.goo.gl/aXcAZcyYUBd4XgSD7\n",
      "Processing URL: https://maps.app.goo.gl/cSUrMztSDiBgwdhA6\n",
      "Processing URL: https://maps.app.goo.gl/46WBD61paVmffY8h9\n",
      "Processing URL: https://maps.app.goo.gl/f52do6CZ8vYfGjmYA\n",
      "Processing URL: https://maps.app.goo.gl/TR357p18vtG1aX6x7\n",
      "Processing URL: https://maps.app.goo.gl/TCZ28B5cJApRVy6h7\n",
      "Processing URL: https://maps.app.goo.gl/uGy3VCqLHrx1CC189\n",
      "Processing URL: https://maps.app.goo.gl/9U6PGcZrQRAyavoNA\n",
      "Processing URL: https://maps.app.goo.gl/f11PLTwgVX2eB7vS6\n",
      "Processing URL: https://maps.app.goo.gl/dkdQZkJSv4DSa2F98\n",
      "Processing URL: https://maps.app.goo.gl/roCPYQpXdqtWjUVP9\n",
      "Processing URL: https://maps.app.goo.gl/RXJ7uxZ7jPtRDTJd9\n",
      "Processing URL: https://maps.app.goo.gl/ELTgz3qNhJZX184E8\n",
      "Processing URL: https://maps.app.goo.gl/yXPqofQjB94TXg1H6\n",
      "Processing URL: https://maps.app.goo.gl/A8vjr3ffuurKnVDY7\n",
      "Processing URL: https://maps.app.goo.gl/bw82JSprfT7C7An76\n",
      "Processing URL: https://maps.app.goo.gl/mPf1Wsj7drVKaYAX6\n",
      "Processing URL: https://maps.app.goo.gl/EKKhyhU8G1CFNidRA\n",
      "Processing URL: https://maps.app.goo.gl/yr3QRYaMkd4QC3aN9\n",
      "Processing URL: https://maps.app.goo.gl/zeoNZxugw3SfxC7t5\n",
      "Processing URL: https://maps.app.goo.gl/J2H7hkesdZA5Mmqk7\n",
      "Processing URL: https://maps.app.goo.gl/skWFn7rn7oNvGEQD6\n",
      "Processing URL: https://maps.app.goo.gl/Wku21Lfywp7kxeWQ7\n",
      "Processing URL: https://maps.app.goo.gl/dcqBm5RBcqPCPWt66\n",
      "Processing URL: https://maps.app.goo.gl/yFM5ZVNo7FcarNTn7\n",
      "Processing URL: https://maps.app.goo.gl/MqmJiqmuRSLiJr7U9\n",
      "Processing URL: https://maps.app.goo.gl/VLx9toNX4EqLp6Sd6\n",
      "Processing URL: https://maps.app.goo.gl/KQ5FYboV3HNgghZW6\n",
      "Processing URL: https://maps.app.goo.gl/KQR5n18wnndMabr29\n",
      "Processing URL: https://maps.app.goo.gl/EmWq19u4M3QgLrfDA\n",
      "Processing URL: https://maps.app.goo.gl/WdPQyCGP2fnjm2At9\n",
      "Processing URL: https://maps.app.goo.gl/fjFEdsATC5tCXkDs5\n",
      "Processing URL: https://maps.app.goo.gl/StpJpCf3LYQDy3XJA\n",
      "Processing URL: https://maps.app.goo.gl/4LbEcoRGAmp5jk8t9\n",
      "Processing URL: https://maps.app.goo.gl/faPg81RqwdoS7xcc6\n",
      "Processing URL: https://maps.app.goo.gl/ofTFj6tcoY8WpRRg7\n",
      "Processing URL: https://maps.app.goo.gl/V1bc3c3mYFrYXkvQ7\n",
      "Processing URL: https://maps.app.goo.gl/rrnm7SjttVPsAeqj8\n",
      "Processing URL: https://maps.app.goo.gl/MajP8duxNcPRq1e26\n",
      "Processing URL: https://maps.app.goo.gl/PtkZ2ajb31pnunhj7\n",
      "Processing URL: https://maps.app.goo.gl/AYnXbAsbNj2mRL9b7\n",
      "Processing URL: https://maps.app.goo.gl/rnaaAkTK5BWMYQXe8\n",
      "Processing URL: https://maps.app.goo.gl/FByQs6pGnxSP9byW7\n",
      "Processing URL: https://maps.app.goo.gl/NMf9vXGvoLN5o9Y38\n",
      "Processing URL: https://maps.app.goo.gl/h4w9vpYnqj9LVfhq7\n",
      "Processing URL: https://maps.app.goo.gl/FreNdhUfSprfD35A9\n",
      "Processing URL: https://maps.app.goo.gl/wTPjCVz1skHhALq49\n",
      "Processing URL: https://maps.app.goo.gl/ZLqV6sHknyyzSLof9\n",
      "Processing URL: https://maps.app.goo.gl/kMShZr9SNZfoCFBN8\n",
      "Processing URL: https://maps.app.goo.gl/xJf1hxdwY9oSsYbS7\n",
      "Processing URL: https://maps.app.goo.gl/RnFmneNkJgFXGyDY6\n",
      "Processing URL: https://maps.app.goo.gl/23fXEH5gCE2iYjK16\n",
      "Processing URL: https://maps.app.goo.gl/6ZcGZtvVaqnem8d37\n",
      "Processing URL: https://maps.app.goo.gl/6qrFq8dqALJtBNag7\n",
      "Processing URL: https://maps.app.goo.gl/VvTn66nZZLwsNJKx9\n",
      "Processing URL: https://maps.app.goo.gl/uxZkFM5142jG3ryw9\n",
      "Processing URL: https://maps.app.goo.gl/Zb1YZ9wcwbXdy6Ka8\n",
      "Processing URL: https://maps.app.goo.gl/BgSqMEN7jaHwshMt9\n",
      "Processing URL: https://maps.app.goo.gl/rBBMgYrZPCefug5J8\n",
      "Processing URL: https://maps.app.goo.gl/2k5CiPLdMcmiMQ138\n",
      "Processing URL: https://maps.app.goo.gl/y8iMoZtqY8CWg6XJ7\n",
      "Processing URL: https://maps.app.goo.gl/4X9oFfruAm2Lbk7z8\n",
      "Processing URL: https://maps.app.goo.gl/HXmZnkWJz6ZXafNA6\n",
      "Processing URL: https://maps.app.goo.gl/4QSt6HeAriramhJV6\n",
      "Processing URL: https://maps.app.goo.gl/pJsk6Ga5nPucAC7c8\n",
      "Processing URL: https://maps.app.goo.gl/j9yggJjUW8bm4iat7\n",
      "Processing URL: https://maps.app.goo.gl/5SRGm3veKxNAQiLf8\n",
      "Processing URL: https://maps.app.goo.gl/JyvjNPpwzPy8GSTQA\n",
      "Processing URL: https://maps.app.goo.gl/52sdcD1qRADt2imq6\n",
      "Processing URL: https://maps.app.goo.gl/UouPQYa4WxPEwfcA7\n",
      "Processing URL: https://maps.app.goo.gl/Brp2tfRNnx7pRAyy6\n",
      "Processing URL: https://maps.app.goo.gl/8vtCgCfaEXNtbsuCA\n",
      "Processing URL: https://maps.app.goo.gl/9hAbZB58FV5j4YyG7\n",
      "Processing URL: https://maps.app.goo.gl/kWC8eUQTzR9t4dCJ8\n",
      "Processing URL: https://maps.app.goo.gl/JwdRrTBV6pv9cb5D7\n",
      "Processing URL: https://maps.app.goo.gl/k3FELMYXEcEBQjcw6\n",
      "Processing URL: https://maps.app.goo.gl/hmjqbKot6iWcgKJS6\n",
      "Processing URL: https://maps.app.goo.gl/cePc2raqFc2sdiko6\n",
      "Processing URL: https://maps.app.goo.gl/jmnwJE8gfYzrYzbA9\n",
      "Processing URL: https://maps.app.goo.gl/Qp6MPKV7722CJNMd6\n",
      "Processing URL: https://maps.app.goo.gl/6iHxfanDgs3qFJDb9\n",
      "Processing URL: https://maps.app.goo.gl/AjqJyYHmakjxxwdB9\n",
      "Processing URL: https://maps.app.goo.gl/3MPFwDZQu8tvAFPMA\n",
      "Processing URL: https://maps.app.goo.gl/7z4ydn8cDddHW1hq8\n",
      "Processing URL: https://maps.app.goo.gl/cyaaNA7gEMqfj5Br6\n",
      "Processing URL: https://maps.app.goo.gl/re6PYnxDooq39zLVA\n",
      "Processing URL: https://maps.app.goo.gl/FFkGAqs5ib6Xq3WM9\n",
      "Processing URL: https://maps.app.goo.gl/rn8kSC8vyY1TuHPT8\n",
      "Processing URL: https://maps.app.goo.gl/4WNmwgiXehqnSyE26\n",
      "Processing URL: https://maps.app.goo.gl/KNhLcJdqPJTHv56H9\n",
      "Processing URL: https://maps.app.goo.gl/WsV1vYmnECErZK6d9\n",
      "Processing URL: https://maps.app.goo.gl/qRUJN86g9dvZT3Si7\n",
      "Processing URL: https://maps.app.goo.gl/pHF4xj24m8gcTAMt9\n",
      "Processing URL: https://maps.app.goo.gl/bF6GGmswJsz8M5EB8\n",
      "Processing URL: https://maps.app.goo.gl/mjWbBd5NQj5b9RtG8\n",
      "Processing URL: https://maps.app.goo.gl/Aopuz2EDTc3MeU5f8\n",
      "Processing URL: https://maps.app.goo.gl/FMRE56XCvB2GqHEH9\n",
      "Processing URL: https://maps.app.goo.gl/k7b7dndumgA75FCZ6\n",
      "Processing URL: https://maps.app.goo.gl/egf417uLRK1gLp8s7\n",
      "Processing URL: https://maps.app.goo.gl/SgsoEKcFHsGs7FEh7\n",
      "Processing URL: https://maps.app.goo.gl/x1Tz9aXNWkh9YZeDA\n",
      "Processing URL: https://maps.app.goo.gl/eyGw6F7Ektu3CBVC6\n",
      "Processing URL: https://maps.app.goo.gl/2mHPxkZrbFLf3Cq76\n",
      "Processing URL: https://maps.app.goo.gl/qUhLsUso4PZkc78g6\n",
      "Processing URL: https://maps.app.goo.gl/RdAwCMWUTwP3pRoc8\n",
      "Processing URL: https://maps.app.goo.gl/qmJdCo7sNhV3V4Ge8\n",
      "Processing URL: https://maps.app.goo.gl/Q3NWAjjGzZxmQME68\n",
      "Processing URL: https://maps.app.goo.gl/ggG1P4yEJwDKkzJ3A\n",
      "Processing URL: https://maps.app.goo.gl/EHbyLbSCiaKi6tgJ9\n",
      "Processing URL: https://maps.app.goo.gl/BJFJficgHeFNgLsH6\n",
      "Processing URL: https://maps.app.goo.gl/owoAYQFNngYbXtuA7\n",
      "Processing URL: https://maps.app.goo.gl/qZrRy2jmg2zLf3Jw5\n",
      "Processing URL: https://maps.app.goo.gl/XZtEU5iMKbMPRyes9\n",
      "Processing URL: https://maps.app.goo.gl/1EzJnhAGoLJsrfmp9\n",
      "Processing URL: https://maps.app.goo.gl/fhbcGRkmLobdmMTc7\n",
      "Processing URL: https://maps.app.goo.gl/LLdTjE4HRR1eZZNfA\n",
      "Processing URL: https://maps.app.goo.gl/6kFhLvBLdAAUu9EM7\n",
      "Processing URL: https://maps.app.goo.gl/AWkVLuVHdTz2JEV37\n",
      "Processing URL: https://maps.app.goo.gl/FZAvNyVtkmXDfZmj9\n",
      "Processing URL: https://maps.app.goo.gl/qqQ9gaqU6Vfx8yng7\n",
      "Processing URL: https://maps.app.goo.gl/AbkEWUpYiYuDnqTY6\n",
      "Processing URL: https://maps.app.goo.gl/FBE8QfrnhEft2KuR6\n",
      "Processing URL: https://maps.app.goo.gl/fUqi4vtqWKjeMobT9\n",
      "Processing URL: https://maps.app.goo.gl/VQsk1GdaNbiHZ8qe9\n",
      "Processing URL: https://maps.app.goo.gl/cQoaNfZ6bpdn8b618\n",
      "Processing URL: https://maps.app.goo.gl/UNhKyn9KSWyw7Qq26\n",
      "Processing URL: https://maps.app.goo.gl/GTLotfNmgRcvjSGa9\n",
      "Processing URL: https://maps.app.goo.gl/2PtiNHNENJGsnPv59\n",
      "Processing URL: https://maps.app.goo.gl/DYmGySUmkBZa4xGz6\n",
      "Processing URL: https://maps.app.goo.gl/xYDr4dZZWUQ3ZnsY8\n",
      "Processing URL: https://maps.app.goo.gl/Xb8fFb1ew12WHrfG7\n",
      "Processing URL: https://maps.app.goo.gl/cmcKohNWmDTbHEvB9\n",
      "Processing URL: https://maps.app.goo.gl/YgtMfkThAKrXtTF99\n",
      "Processing URL: https://maps.app.goo.gl/obzWk1tXVz2rNaV49\n",
      "Processing URL: https://maps.app.goo.gl/YR6q9jDgKVysYRn28\n",
      "Processing URL: https://maps.app.goo.gl/RpXydYccUQohe9ap8\n",
      "Processing URL: https://maps.app.goo.gl/JzdW7ZiftYKZmM3m6\n",
      "Processing URL: https://maps.app.goo.gl/w3Y9m51SepbqxUqd9\n",
      "Processing URL: https://maps.app.goo.gl/iXRVNGWUcr9ruecTA\n",
      "Processing URL: https://maps.app.goo.gl/iwMLJPpUm4MFBJ99A\n",
      "Processing URL: https://maps.app.goo.gl/uFajEUPihyXg6t4s5\n",
      "Processing URL: https://maps.app.goo.gl/aJ1g61zttcpXb3aW8\n",
      "Processing URL: https://maps.app.goo.gl/QskAni7JQrtPg3sv6\n",
      "Processing URL: https://maps.app.goo.gl/CV5xww7Xv4p3CZUy7\n",
      "Processing URL: https://maps.app.goo.gl/xT7r58x8dbxvRaro9\n",
      "Processing URL: https://maps.app.goo.gl/Mb5S54mW5WpmjUPD9\n",
      "Processing URL: https://maps.app.goo.gl/7Cz8ZSnQkt8DiUcq7\n",
      "Processing URL: https://maps.app.goo.gl/Ucqd8caQiNRjsFur7\n",
      "Processing URL: https://maps.app.goo.gl/fdLLq5uASghnFQYa8\n",
      "Processing URL: https://maps.app.goo.gl/SxFeURnVBruLUiB36\n",
      "Processing URL: https://maps.app.goo.gl/WX31zx7jk46h1uRy9\n",
      "Processing URL: https://maps.app.goo.gl/B7wqGkSfGEdnVDBR6\n",
      "Processing URL: https://maps.app.goo.gl/Sp29xwfBb42stqeEA\n",
      "Processing URL: https://maps.app.goo.gl/SU56QdAZvMaC5tQMA\n",
      "Processing URL: https://maps.app.goo.gl/UGvs4JmG5czFARb48\n",
      "Processing URL: https://maps.app.goo.gl/eqoEHD4fv8X7UgSDA\n",
      "Processing URL: https://maps.app.goo.gl/bCXEGbpDh6okTzQ87\n",
      "Processing URL: https://maps.app.goo.gl/kTTFy5SqNm2sYxYJ7\n",
      "Processing URL: https://maps.app.goo.gl/9iQJi15VKq8gBbh96\n",
      "Processing URL: https://maps.app.goo.gl/hpW1YE1LrhLd5atYA\n",
      "Processing URL: https://maps.app.goo.gl/Lw8XjXf3DtHHs67t5\n",
      "Processing URL: https://maps.app.goo.gl/Kj1J1BnXm6k9EGXt5\n",
      "Processing URL: https://maps.app.goo.gl/DVK8q5mKfpsQhLMZA\n",
      "Processing URL: https://maps.app.goo.gl/CxhygsEu6tFyCPF5A\n",
      "Processing URL: https://maps.app.goo.gl/SDZi5MEugtBzUDkQ9\n",
      "Processing URL: Triple\n",
      "Error: Invalid URL 'Triple': No scheme supplied. Perhaps you meant https://Triple?\n",
      "Processing URL: https://maps.app.goo.gl/VVsgWxMtv4gJvWYd8\n",
      "Processing URL: https://maps.app.goo.gl/hHPzrGD9HxfnJTVS8\n",
      "Processing URL: https://maps.app.goo.gl/9YyGnkcw4yGYYzqD6\n",
      "Processing URL: https://maps.app.goo.gl/M6ymh7fwAqwKYx9c8\n",
      "Processing URL: https://maps.app.goo.gl/wfYGy9TxZnjHbEau7\n",
      "Processing URL: https://maps.app.goo.gl/VoR2nV5vy47nebny8\n",
      "Processing URL: https://maps.app.goo.gl/zet3eQ8bA3HQJPrm6\n",
      "Processing URL: https://maps.app.goo.gl/T7ET8ivDhvFY66hu7\n",
      "Processing URL: https://maps.app.goo.gl/Yvii58je5LHYQ7sV6\n",
      "Processing URL: https://maps.app.goo.gl/zEk2DjUfZfg4pZCs6\n",
      "Processing URL: https://maps.app.goo.gl/iSBfupmoot9QLxsu8\n",
      "Processing URL: https://maps.app.goo.gl/tnUGemftcprFxkHLA\n",
      "Processing URL: https://maps.app.goo.gl/EwMvtZFifsQGRTEH8\n",
      "Processing URL: https://maps.app.goo.gl/Err8A9X5H5TS4KWC7\n",
      "Processing URL: https://maps.app.goo.gl/qq2YtPmcE3wdgdxx6\n",
      "Processing URL: https://maps.app.goo.gl/Rej4YP8iTGPtwePR9\n",
      "Processing URL: https://maps.app.goo.gl/q8tv58MwkzC9Atji9\n",
      "Processing URL: https://maps.app.goo.gl/d8aKntWWuycQPH3R9\n",
      "Processing URL: https://maps.app.goo.gl/EVEUdzuRsfoLbxgQA\n",
      "Processing URL: https://maps.app.goo.gl/xd6NtLygz65cPRE46\n",
      "Processing URL: https://maps.app.goo.gl/iYgPYjk6BW2ayxpy5\n",
      "Processing URL: https://maps.app.goo.gl/ziBWb9rsraEh3yZ98\n",
      "Processing URL: https://maps.app.goo.gl/PZJjSiE7ZVD1E1aM8\n",
      "Processing URL: https://maps.app.goo.gl/qVknqo8ZvDaDzEnq6\n",
      "Processing URL: https://maps.app.goo.gl/hfEm5xLqFZS34n29A\n",
      "Processing URL: https://maps.app.goo.gl/6zDdEfxCHjxZF7eo6\n",
      "Processing URL: https://maps.app.goo.gl/8kCWb9vLSfQvcvMQ8\n",
      "Processing URL: https://maps.app.goo.gl/N47jGfG8f3ehgj7V9\n",
      "Processing URL: https://maps.app.goo.gl/BpN9cYfvMQXvWrCTA\n",
      "Processing URL: https://maps.app.goo.gl/4FYFbig8uhjF539HA\n",
      "Processing URL: https://maps.app.goo.gl/KMJ4EwRrARtaToPMA\n",
      "Processing URL: https://maps.app.goo.gl/AtsAtyhDGZEGJ3vH6\n"
     ]
    }
   ],
   "execution_count": 14
  },
  {
   "metadata": {
    "ExecuteTime": {
     "end_time": "2025-04-04T19:47:58.822848Z",
     "start_time": "2025-04-04T19:47:58.795048Z"
    }
   },
   "cell_type": "code",
   "source": "df_hotel.to_csv('../data/hotel_final.csv', index=False)",
   "id": "8e9f15021aca154d",
   "outputs": [],
   "execution_count": 15
  },
  {
   "metadata": {
    "ExecuteTime": {
     "end_time": "2025-04-04T20:06:26.780495Z",
     "start_time": "2025-04-04T20:06:26.729591Z"
    }
   },
   "cell_type": "code",
   "source": "df_restaurant = pd.read_csv(\"../data/restaurant.csv\")",
   "id": "e20b09fc1b4e2298",
   "outputs": [],
   "execution_count": 28
  },
  {
   "metadata": {
    "ExecuteTime": {
     "end_time": "2025-04-04T20:06:43.670131Z",
     "start_time": "2025-04-04T20:06:43.642973Z"
    }
   },
   "cell_type": "code",
   "source": "df_restaurant.replace(['-- No Data --', '#### Waiting for processing ####'], np.nan, inplace=True)",
   "id": "76185c981b2aa9c6",
   "outputs": [],
   "execution_count": 30
  },
  {
   "metadata": {
    "ExecuteTime": {
     "end_time": "2025-04-04T20:14:02.468311Z",
     "start_time": "2025-04-04T20:14:02.452665Z"
    }
   },
   "cell_type": "code",
   "source": "df_restaurant.drop(['Featured image', 'Rating Info', 'Category', 'Price', 'Scraped At', 'Social Medias', 'Facebook', 'Instagram', 'Twitter', 'Emails'], axis=1, inplace=True)",
   "id": "d9c997f6c0c85f4b",
   "outputs": [],
   "execution_count": 32
  },
  {
   "metadata": {
    "ExecuteTime": {
     "end_time": "2025-04-04T20:17:18.332361Z",
     "start_time": "2025-04-04T20:17:18.320322Z"
    }
   },
   "cell_type": "code",
   "source": [
    "df_restaurant.rename(columns={'Bing Maps URL': 'map_link'}, inplace=True)\n",
    "df_restaurant.rename(columns={'Open Hours': 'open_hours'}, inplace=True)\n",
    "df_restaurant.columns = [col.lower() for col in df_restaurant.columns]"
   ],
   "id": "d6620f712eb416eb",
   "outputs": [],
   "execution_count": 34
  },
  {
   "metadata": {
    "ExecuteTime": {
     "end_time": "2025-04-04T20:17:41.079398Z",
     "start_time": "2025-04-04T20:17:41.063588Z"
    }
   },
   "cell_type": "code",
   "source": "df_restaurant['id'] = range(1, len(df_restaurant) + 1)",
   "id": "d8d33384864000ae",
   "outputs": [],
   "execution_count": 36
  },
  {
   "metadata": {
    "ExecuteTime": {
     "end_time": "2025-04-04T20:18:12.386145Z",
     "start_time": "2025-04-04T20:18:12.370299Z"
    }
   },
   "cell_type": "code",
   "source": "df_restaurant.info()",
   "id": "463873a1fc9dce37",
   "outputs": [
    {
     "name": "stdout",
     "output_type": "stream",
     "text": [
      "<class 'pandas.core.frame.DataFrame'>\n",
      "RangeIndex: 2205 entries, 0 to 2204\n",
      "Data columns (total 10 columns):\n",
      " #   Column      Non-Null Count  Dtype  \n",
      "---  ------      --------------  -----  \n",
      " 0   id          2205 non-null   int64  \n",
      " 1   name        2205 non-null   object \n",
      " 2   address     2204 non-null   object \n",
      " 3   map_link    2204 non-null   object \n",
      " 4   latitude    2205 non-null   float64\n",
      " 5   longitude   2205 non-null   float64\n",
      " 6   rating      916 non-null    float64\n",
      " 7   open_hours  1101 non-null   object \n",
      " 8   website     1223 non-null   object \n",
      " 9   phone       1868 non-null   object \n",
      "dtypes: float64(3), int64(1), object(6)\n",
      "memory usage: 172.4+ KB\n"
     ]
    }
   ],
   "execution_count": 38
  },
  {
   "metadata": {
    "ExecuteTime": {
     "end_time": "2025-04-04T20:18:48.890738Z",
     "start_time": "2025-04-04T20:18:48.851243Z"
    }
   },
   "cell_type": "code",
   "source": "df_restaurant.to_csv('../data/restaurant_final.csv', index=False)",
   "id": "ae2a990aa882ecc3",
   "outputs": [],
   "execution_count": 39
  }
 ],
 "metadata": {
  "kernelspec": {
   "display_name": "Python 3",
   "language": "python",
   "name": "python3"
  },
  "language_info": {
   "codemirror_mode": {
    "name": "ipython",
    "version": 2
   },
   "file_extension": ".py",
   "mimetype": "text/x-python",
   "name": "python",
   "nbconvert_exporter": "python",
   "pygments_lexer": "ipython2",
   "version": "2.7.6"
  }
 },
 "nbformat": 4,
 "nbformat_minor": 5
}
