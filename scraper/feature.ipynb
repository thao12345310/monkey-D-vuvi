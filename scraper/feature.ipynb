{
 "cells": [
  {
   "metadata": {
    "ExecuteTime": {
     "end_time": "2025-05-09T01:13:19.251647Z",
     "start_time": "2025-05-09T01:13:19.157789Z"
    }
   },
   "cell_type": "code",
   "source": [
    "import requests\n",
    "import csv"
   ],
   "id": "39cb0a417b76de64",
   "outputs": [],
   "execution_count": 1
  },
  {
   "metadata": {
    "ExecuteTime": {
     "end_time": "2025-05-09T01:13:19.268984Z",
     "start_time": "2025-05-09T01:13:19.259089Z"
    }
   },
   "cell_type": "code",
   "source": [
    "api_hotel = \"https://mixivivu.com/api/hotels/get-list?size=5&page=\"\n",
    "page = 1"
   ],
   "id": "f7fe9d8b2c87b36b",
   "outputs": [],
   "execution_count": 2
  },
  {
   "metadata": {
    "ExecuteTime": {
     "end_time": "2025-05-09T01:13:36.240072Z",
     "start_time": "2025-05-09T01:13:19.494327Z"
    }
   },
   "cell_type": "code",
   "source": [
    "with open(\"../data/feature.csv\", \"w\", encoding=\"utf-8\", newline=\"\") as feature_file:\n",
    "    feature_writer = csv.writer(feature_file)\n",
    "    feature_writer.writerow([\"feature_id\", \"feature_description\"])\n",
    "\n",
    "    while True:\n",
    "        try:\n",
    "            response = requests.get(api_hotel + str(page))\n",
    "            response.raise_for_status()\n",
    "\n",
    "            data = response.json()\n",
    "            hotels = data.get(\"result\", {}).get(\"data\", [])\n",
    "\n",
    "            if not hotels:\n",
    "                print(f\"No more data on page {page}. Stopping...\")\n",
    "                break\n",
    "\n",
    "            for hotel in hotels:\n",
    "                features_list = hotel.get(\"features\", [])\n",
    "                hotel_features = \", \".join(feature.get(\"text\", \"\") for feature in features_list)\n",
    "                rooms = hotel.get(\"rooms\", [])\n",
    "\n",
    "                for feature in features_list:\n",
    "                    feature_id = feature.get(\"_id\")\n",
    "                    feature_description = feature.get(\"text\")\n",
    "                    feature_writer.writerow([feature_id, feature_description])\n",
    "\n",
    "                for room in rooms:\n",
    "                    room_features_list = room.get(\"features\", [])\n",
    "                    for feature in room_features_list:\n",
    "                        feature_id = feature.get(\"_id\")\n",
    "                        feature_description = feature.get(\"text\")\n",
    "                        feature_writer.writerow([feature_id, feature_description])\n",
    "\n",
    "\n",
    "            page += 1\n",
    "        except requests.RequestException as e:\n",
    "            print(f\"Error while fetching page {page}: {e}\")\n",
    "            break\n",
    "\n",
    "print(\"Data crawling and saving completed!\")"
   ],
   "id": "735ca81c0587902f",
   "outputs": [
    {
     "name": "stdout",
     "output_type": "stream",
     "text": [
      "No more data on page 46. Stopping...\n",
      "Data crawling and saving completed!\n"
     ]
    }
   ],
   "execution_count": 3
  },
  {
   "metadata": {
    "ExecuteTime": {
     "end_time": "2025-05-09T01:13:36.268409Z",
     "start_time": "2025-05-09T01:13:36.257891Z"
    }
   },
   "cell_type": "code",
   "source": "api = \"https://mixivivu.com/api/features/get-list?size=30\"",
   "id": "b155fba9193347e",
   "outputs": [],
   "execution_count": 4
  },
  {
   "metadata": {
    "ExecuteTime": {
     "end_time": "2025-05-09T01:13:36.518893Z",
     "start_time": "2025-05-09T01:13:36.293509Z"
    }
   },
   "cell_type": "code",
   "source": [
    "with open(\"../data/feature.csv\", \"a\", encoding=\"utf-8\", newline=\"\") as feature_file:\n",
    "    feature_writer = csv.writer(feature_file)\n",
    "\n",
    "    try:\n",
    "        response = requests.get(api)\n",
    "        response.raise_for_status()\n",
    "\n",
    "        data = response.json()\n",
    "        features = data.get(\"result\", {}).get(\"data\", [])\n",
    "\n",
    "        for feature in features:\n",
    "            feature_id = feature.get(\"_id\")\n",
    "            feature_description = feature.get(\"text\")\n",
    "            feature_writer.writerow([feature_id, feature_description])\n",
    "\n",
    "    except requests.RequestException as e:\n",
    "            print(f\"Error while fetching page: {e}\")"
   ],
   "id": "a3c295f9980235d8",
   "outputs": [],
   "execution_count": 5
  },
  {
   "metadata": {},
   "cell_type": "markdown",
   "source": "# Remove duplicates",
   "id": "495bd2f5a502b86d"
  },
  {
   "metadata": {
    "ExecuteTime": {
     "end_time": "2025-05-09T01:13:36.562809Z",
     "start_time": "2025-05-09T01:13:36.537411Z"
    }
   },
   "cell_type": "code",
   "source": [
    "unique_rows = set()\n",
    "with open(\"../data/feature.csv\", \"r\", encoding=\"utf-8\", newline=\"\") as file:\n",
    "    reader = csv.reader(file)\n",
    "    header = next(reader)\n",
    "    for row in reader:\n",
    "        unique_rows.add(tuple(row))\n",
    "\n",
    "with open(\"../data/feature.csv\", \"w\", encoding=\"utf-8\", newline=\"\") as file:\n",
    "    writer = csv.writer(file)\n",
    "    writer.writerow(header)\n",
    "    writer.writerows(unique_rows)"
   ],
   "id": "36169591c0be1724",
   "outputs": [],
   "execution_count": 6
  },
  {
   "metadata": {
    "ExecuteTime": {
     "end_time": "2025-05-09T01:13:36.989361Z",
     "start_time": "2025-05-09T01:13:36.581397Z"
    }
   },
   "cell_type": "code",
   "source": "import pandas as pd",
   "id": "8b4f28b7608b9b88",
   "outputs": [],
   "execution_count": 7
  },
  {
   "metadata": {
    "ExecuteTime": {
     "end_time": "2025-05-09T01:13:37.037060Z",
     "start_time": "2025-05-09T01:13:37.005749Z"
    }
   },
   "cell_type": "code",
   "source": "df = pd.read_csv(\"../data/feature.csv\")",
   "id": "94159de73c5bda97",
   "outputs": [],
   "execution_count": 8
  },
  {
   "metadata": {
    "ExecuteTime": {
     "end_time": "2025-05-09T01:13:37.068097Z",
     "start_time": "2025-05-09T01:13:37.052975Z"
    }
   },
   "cell_type": "code",
   "source": "df.rename(columns={\"feature_id\": \"default_id\"}, inplace=True)",
   "id": "7dff31fc650b3016",
   "outputs": [],
   "execution_count": 9
  },
  {
   "metadata": {
    "ExecuteTime": {
     "end_time": "2025-05-09T01:13:37.092157Z",
     "start_time": "2025-05-09T01:13:37.085854Z"
    }
   },
   "cell_type": "code",
   "source": "df.insert(0, \"feature_id\", range(1, len(df) + 1))",
   "id": "7e4f7b0d04606f5c",
   "outputs": [],
   "execution_count": 10
  },
  {
   "metadata": {
    "ExecuteTime": {
     "end_time": "2025-05-09T01:13:37.135014Z",
     "start_time": "2025-05-09T01:13:37.122427Z"
    }
   },
   "cell_type": "code",
   "source": "df.to_csv(\"../data/feature.csv\", index=False, encoding=\"utf-8\")",
   "id": "724cbdbca1860364",
   "outputs": [],
   "execution_count": 11
  }
 ],
 "metadata": {
  "kernelspec": {
   "name": "python3",
   "language": "python",
   "display_name": "Python 3 (ipykernel)"
  }
 },
 "nbformat": 5,
 "nbformat_minor": 9
}
