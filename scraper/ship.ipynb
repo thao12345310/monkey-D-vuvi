{
 "cells": [
  {
   "cell_type": "code",
   "id": "initial_id",
   "metadata": {
    "collapsed": true,
    "ExecuteTime": {
     "end_time": "2025-04-04T15:11:14.585435Z",
     "start_time": "2025-04-04T15:11:14.572026Z"
    }
   },
   "source": [
    "import requests\n",
    "import csv"
   ],
   "outputs": [],
   "execution_count": 16
  },
  {
   "metadata": {
    "ExecuteTime": {
     "end_time": "2025-04-04T15:11:14.600720Z",
     "start_time": "2025-04-04T15:11:14.592436Z"
    }
   },
   "cell_type": "code",
   "source": [
    "api_ship = \"https://mixivivu.com/api/products/get-list?size=5&page=\"\n",
    "api_features = \"https://mixivivu.com/api/features/get-list\"\n",
    "api_room_features = \"https://mixivivu.com/api/features/get-list?size=30\"\n",
    "page = 1"
   ],
   "id": "a50e430f6ebf6488",
   "outputs": [],
   "execution_count": 17
  },
  {
   "metadata": {
    "ExecuteTime": {
     "end_time": "2025-04-04T15:11:17.174293Z",
     "start_time": "2025-04-04T15:11:14.617655Z"
    }
   },
   "cell_type": "code",
   "source": [
    "response = requests.get(api_features)\n",
    "response.raise_for_status()\n",
    "features_data = response.json().get(\"result\", {}).get(\"data\", [])\n",
    "feature_dict = {feature[\"_id\"]: feature[\"text\"] for feature in features_data}"
   ],
   "id": "6396711bb041282b",
   "outputs": [],
   "execution_count": 18
  },
  {
   "metadata": {
    "ExecuteTime": {
     "end_time": "2025-04-04T15:11:17.544428Z",
     "start_time": "2025-04-04T15:11:17.192146Z"
    }
   },
   "cell_type": "code",
   "source": [
    "response = requests.get(api_room_features)\n",
    "response.raise_for_status()\n",
    "room_features_data = response.json().get(\"result\", {}).get(\"data\", [])\n",
    "room_feature_dict = {feature[\"_id\"]: feature[\"text\"] for feature in room_features_data}"
   ],
   "id": "291725ea1f51d7d0",
   "outputs": [],
   "execution_count": 19
  },
  {
   "metadata": {
    "ExecuteTime": {
     "end_time": "2025-04-04T15:11:33.444810Z",
     "start_time": "2025-04-04T15:11:17.562584Z"
    }
   },
   "cell_type": "code",
   "source": [
    "with open(\"../data/ship.csv\", \"w\", encoding=\"utf-8\", newline=\"\") as ship_file, \\\n",
    "     open(\"../data/ship_rooms.csv\", \"w\", encoding=\"utf-8\", newline=\"\") as room_file,\\\n",
    "     open(\"../data/ship_description.csv\", \"w\", encoding=\"utf-8\", newline=\"\") as long_description_file:\n",
    "\n",
    "    ship_writer = csv.writer(ship_file)\n",
    "    room_writer = csv.writer(room_file)\n",
    "    long_description_writer = csv.writer(long_description_file)\n",
    "\n",
    "    ship_writer.writerow([\"ship_id\", \"ship_name\", \"launch\", \"cabin\", \"shell\", \"trip\", \"admin\", \"ship_price\", \"address\", \"map_link\", \"ship_features\", \"short_description\", \"long_description\"])\n",
    "    room_writer.writerow([\"room_id\", \"ship_id\", \"room_name\", \"size\", \"max_persons\", \"room_price\", \"room_features\", ])\n",
    "    long_description_writer.writerow([\"ship_id\", \"block_id\", \"type\", \"data\"])\n",
    "\n",
    "    ship_id = 1\n",
    "    room_id = 1\n",
    "    while True:\n",
    "        try:\n",
    "            response = requests.get(api_ship + str(page))\n",
    "            response.raise_for_status()\n",
    "\n",
    "            data = response.json()\n",
    "            ships = data.get(\"result\", {}).get(\"data\", [])\n",
    "\n",
    "            if not ships:\n",
    "                print(f\"No more data on page {page}. Stopping...\")\n",
    "                break\n",
    "\n",
    "            for ship in ships:\n",
    "                ship_name = ship.get(\"title\")\n",
    "                launch = ship.get(\"spec\", {}).get(\"ship\", {}).get(\"launch\")\n",
    "                cabin = ship.get(\"spec\", {}).get(\"ship\", {}).get(\"cabin\")\n",
    "                shell = ship.get(\"spec\", {}).get(\"ship\", {}).get(\"shell\")\n",
    "                trip = ship.get(\"spec\", {}).get(\"ship\", {}).get(\"trip\")\n",
    "                admin = ship.get(\"spec\", {}).get(\"ship\", {}).get(\"admin\")\n",
    "                ship_price = ship.get(\"defaultPrice\")\n",
    "                address = ship.get(\"address\")\n",
    "                map_link = ship.get(\"mapLink\")\n",
    "\n",
    "                ship_features_list = ship.get(\"features\", [])\n",
    "                ship_features = \", \".join(feature_dict.get(feature, feature) for feature in ship_features_list if feature in feature_dict)\n",
    "\n",
    "                short_description_list = ship.get(\"shortDescription\", [])\n",
    "                short_description = \" \".join(short_description_list)\n",
    "\n",
    "                long_description = ship.get(\"longDescription\", {}).get(\"blocks\")\n",
    "                long_description_text = \"\"\n",
    "\n",
    "                block_id = 1\n",
    "                for block in long_description:\n",
    "                    block_type = block[\"type\"]\n",
    "                    if block_type == \"paragraph\":\n",
    "                        data = block[\"data\"][\"text\"]\n",
    "                        long_description_text += data + \" \"\n",
    "                    elif block_type == \"image\":\n",
    "                        data = block[\"data\"][\"file\"][\"url\"]\n",
    "                    else:\n",
    "                        continue\n",
    "\n",
    "                    long_description_writer.writerow([ship_id, block_id, block_type, data])\n",
    "                    block_id += 1\n",
    "\n",
    "                rooms = ship.get(\"rooms\")\n",
    "\n",
    "                ship_writer.writerow([ship_id, ship_name, launch, cabin, shell, trip, admin, ship_price, address, map_link, ship_features, short_description.strip(), long_description_text.strip()])\n",
    "\n",
    "                for room in rooms:\n",
    "                    room_name = room.get(\"title\")\n",
    "                    room_price = room.get(\"price\")\n",
    "                    size = room.get(\"size\")\n",
    "                    max_persons = room.get(\"maxPersons\")\n",
    "\n",
    "                    room_features_list = room.get(\"features\", [])\n",
    "                    room_features = \", \".join(room_feature_dict.get(feature, feature) for feature in room_features_list)\n",
    "\n",
    "                    room_writer.writerow([room_id, ship_id, room_name, size, max_persons, room_price, room_features])\n",
    "                    room_id += 1\n",
    "\n",
    "                ship_id += 1\n",
    "\n",
    "            page += 1\n",
    "        except requests.RequestException as e:\n",
    "            print(f\"Error while fetching page {page}: {e}\")\n",
    "            break\n",
    "\n",
    "print(\"Data crawling and saving completed!\")"
   ],
   "id": "48fe3c37405b4720",
   "outputs": [
    {
     "name": "stdout",
     "output_type": "stream",
     "text": [
      "No more data on page 16. Stopping...\n",
      "Data crawling and saving completed!\n"
     ]
    }
   ],
   "execution_count": 20
  }
 ],
 "metadata": {
  "kernelspec": {
   "display_name": "Python 3",
   "language": "python",
   "name": "python3"
  },
  "language_info": {
   "codemirror_mode": {
    "name": "ipython",
    "version": 2
   },
   "file_extension": ".py",
   "mimetype": "text/x-python",
   "name": "python",
   "nbconvert_exporter": "python",
   "pygments_lexer": "ipython2",
   "version": "2.7.6"
  }
 },
 "nbformat": 4,
 "nbformat_minor": 5
}
