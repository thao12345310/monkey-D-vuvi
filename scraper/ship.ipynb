{
 "cells": [
  {
   "cell_type": "code",
   "id": "initial_id",
   "metadata": {
    "collapsed": true,
    "ExecuteTime": {
     "end_time": "2025-04-09T14:41:57.100511Z",
     "start_time": "2025-04-09T14:41:56.397165Z"
    }
   },
   "source": [
    "import requests\n",
    "import csv\n",
    "import pandas as pd"
   ],
   "outputs": [],
   "execution_count": 1
  },
  {
   "metadata": {
    "ExecuteTime": {
     "end_time": "2025-04-09T14:41:57.120731Z",
     "start_time": "2025-04-09T14:41:57.111732Z"
    }
   },
   "cell_type": "code",
   "source": [
    "api_ship = \"https://mixivivu.com/api/products/get-list?size=5&page=\"\n",
    "api_features = \"https://mixivivu.com/api/features/get-list\"\n",
    "api_room_features = \"https://mixivivu.com/api/features/get-list?size=30\"\n",
    "page = 1"
   ],
   "id": "a50e430f6ebf6488",
   "outputs": [],
   "execution_count": 2
  },
  {
   "metadata": {
    "ExecuteTime": {
     "end_time": "2025-04-09T14:41:57.653172Z",
     "start_time": "2025-04-09T14:41:57.128980Z"
    }
   },
   "cell_type": "code",
   "source": [
    "response = requests.get(api_features)\n",
    "response.raise_for_status()\n",
    "features_data = response.json().get(\"result\", {}).get(\"data\", [])\n",
    "feature_dict = {feature[\"_id\"]: feature[\"text\"] for feature in features_data}"
   ],
   "id": "6396711bb041282b",
   "outputs": [],
   "execution_count": 3
  },
  {
   "metadata": {
    "ExecuteTime": {
     "end_time": "2025-04-09T14:41:58.220726Z",
     "start_time": "2025-04-09T14:41:57.951835Z"
    }
   },
   "cell_type": "code",
   "source": [
    "response = requests.get(api_room_features)\n",
    "response.raise_for_status()\n",
    "room_features_data = response.json().get(\"result\", {}).get(\"data\", [])\n",
    "room_feature_dict = {feature[\"_id\"]: feature[\"text\"] for feature in room_features_data}"
   ],
   "id": "291725ea1f51d7d0",
   "outputs": [],
   "execution_count": 4
  },
  {
   "metadata": {
    "ExecuteTime": {
     "end_time": "2025-04-09T14:41:58.260436Z",
     "start_time": "2025-04-09T14:41:58.243760Z"
    }
   },
   "cell_type": "code",
   "source": [
    "df_feature = pd.read_csv(\"../data/feature.csv\")\n",
    "feature_map = dict(zip(df_feature[\"default_id\"], df_feature[\"feature_id\"]))"
   ],
   "id": "17637c66d79991aa",
   "outputs": [],
   "execution_count": 5
  },
  {
   "metadata": {
    "ExecuteTime": {
     "end_time": "2025-04-09T14:42:02.630725Z",
     "start_time": "2025-04-09T14:41:58.282243Z"
    }
   },
   "cell_type": "code",
   "source": [
    "with open(\"../data/ship/ship.csv\", \"w\", encoding=\"utf-8\", newline=\"\") as ship_file, \\\n",
    "     open(\"../final_data/ship/ship_room.csv\", \"w\", encoding=\"utf-8\", newline=\"\") as room_file,\\\n",
    "     open(\"../final_data/ship/ship_feature.csv\", \"w\", encoding=\"utf-8\", newline=\"\") as feature_file,\\\n",
    "     open(\"../final_data/ship/ship_room_feature.csv\", \"w\", encoding=\"utf-8\", newline=\"\") as room_feature_file,\\\n",
    "     open(\"../final_data/ship/ship_short_description.csv\", \"w\", encoding=\"utf-8\", newline=\"\") as short_description_file,\\\n",
    "     open(\"../final_data/ship/ship_long_description.csv\", \"w\", encoding=\"utf-8\", newline=\"\") as long_description_file:\n",
    "\n",
    "    ship_writer = csv.writer(ship_file)\n",
    "    room_writer = csv.writer(room_file)\n",
    "    feature_writer = csv.writer(feature_file)\n",
    "    room_feature_writer = csv.writer(room_feature_file)\n",
    "    short_description_writer = csv.writer(short_description_file)\n",
    "    long_description_writer = csv.writer(long_description_file)\n",
    "\n",
    "    ship_writer.writerow([\"ship_id\", \"ship_name\", \"launch\", \"cabin\", \"shell\", \"trip\", \"admin\", \"ship_price\", \"address\", \"map_link\", \"ship_features\", \"short_description\", \"long_description\"])\n",
    "    room_writer.writerow([\"room_id\", \"ship_id\", \"room_name\", \"size\", \"max_persons\", \"room_price\", \"room_features\", ])\n",
    "    feature_writer.writerow([\"ship_id\", \"feature_id\"])\n",
    "    room_feature_writer.writerow([\"room_id\", \"feature_id\"])\n",
    "    short_description_writer.writerow([\"ship_id\", \"block_id\", \"data\"])\n",
    "    long_description_writer.writerow([\"ship_id\", \"block_id\", \"type\", \"data\"])\n",
    "\n",
    "    ship_id = 1\n",
    "    room_id = 1\n",
    "    while True:\n",
    "        try:\n",
    "            response = requests.get(api_ship + str(page))\n",
    "            response.raise_for_status()\n",
    "\n",
    "            data = response.json()\n",
    "            ships = data.get(\"result\", {}).get(\"data\", [])\n",
    "\n",
    "            if not ships:\n",
    "                print(f\"No more data on page {page}. Stopping...\")\n",
    "                break\n",
    "\n",
    "            for ship in ships:\n",
    "                ship_name = ship.get(\"title\")\n",
    "                launch = ship.get(\"spec\", {}).get(\"ship\", {}).get(\"launch\")\n",
    "                cabin = ship.get(\"spec\", {}).get(\"ship\", {}).get(\"cabin\")\n",
    "                shell = ship.get(\"spec\", {}).get(\"ship\", {}).get(\"shell\")\n",
    "                trip = ship.get(\"spec\", {}).get(\"ship\", {}).get(\"trip\")\n",
    "                admin = ship.get(\"spec\", {}).get(\"ship\", {}).get(\"admin\")\n",
    "                ship_price = ship.get(\"defaultPrice\")\n",
    "                address = ship.get(\"address\")\n",
    "                map_link = ship.get(\"mapLink\")\n",
    "\n",
    "                ship_features_list = ship.get(\"features\", [])\n",
    "                ship_features = \", \".join(feature_dict.get(feature, feature) for feature in ship_features_list if feature in feature_dict)\n",
    "\n",
    "                for feature in ship_features_list:\n",
    "                    if feature in feature_dict:\n",
    "                        default_id = feature\n",
    "                        feature_id = feature_map.get(default_id)\n",
    "                        feature_writer.writerow([ship_id, feature_id])\n",
    "\n",
    "                short_description_list = ship.get(\"shortDescription\", [])\n",
    "                short_description = \" \".join(short_description_list)\n",
    "                block_id = 1\n",
    "                for description in short_description_list:\n",
    "                    if description.strip():\n",
    "                        short_description_writer.writerow([ship_id, block_id, description.strip()])\n",
    "                        block_id += 1\n",
    "\n",
    "                long_description = ship.get(\"longDescription\", {}).get(\"blocks\")\n",
    "                long_description_text = \"\"\n",
    "\n",
    "                block_id = 1\n",
    "                for block in long_description:\n",
    "                    block_type = block[\"type\"]\n",
    "                    if block_type == \"paragraph\":\n",
    "                        data = block[\"data\"][\"text\"]\n",
    "                        long_description_text += data + \" \"\n",
    "                    elif block_type == \"image\":\n",
    "                        data = block[\"data\"][\"file\"][\"url\"]\n",
    "                    else:\n",
    "                        continue\n",
    "\n",
    "                    long_description_writer.writerow([ship_id, block_id, block_type, data])\n",
    "                    block_id += 1\n",
    "\n",
    "                rooms = ship.get(\"rooms\")\n",
    "\n",
    "                ship_writer.writerow([ship_id, ship_name, launch, cabin, shell, trip, admin, ship_price, address, map_link, ship_features, short_description.strip(), long_description_text.strip()])\n",
    "\n",
    "                for room in rooms:\n",
    "                    room_name = room.get(\"title\")\n",
    "                    room_price = room.get(\"price\")\n",
    "                    size = room.get(\"size\")\n",
    "                    max_persons = room.get(\"maxPersons\")\n",
    "\n",
    "                    room_features_list = room.get(\"features\", [])\n",
    "                    room_features = \", \".join(room_feature_dict.get(feature, feature) for feature in room_features_list)\n",
    "                    for feature in room_features_list:\n",
    "                        if feature in room_feature_dict:\n",
    "                            feature_id = feature_map.get(feature)\n",
    "                            room_feature_writer.writerow([room_id, feature_id])\n",
    "\n",
    "                    room_writer.writerow([room_id, ship_id, room_name, size, max_persons, room_price, room_features])\n",
    "                    room_id += 1\n",
    "\n",
    "                ship_id += 1\n",
    "\n",
    "            page += 1\n",
    "        except requests.RequestException as e:\n",
    "            print(f\"Error while fetching page {page}: {e}\")\n",
    "            break\n",
    "\n",
    "print(\"Data crawling and saving completed!\")"
   ],
   "id": "48fe3c37405b4720",
   "outputs": [
    {
     "name": "stdout",
     "output_type": "stream",
     "text": [
      "No more data on page 16. Stopping...\n",
      "Data crawling and saving completed!\n"
     ]
    }
   ],
   "execution_count": 6
  }
 ],
 "metadata": {
  "kernelspec": {
   "display_name": "Python 3",
   "language": "python",
   "name": "python3"
  },
  "language_info": {
   "codemirror_mode": {
    "name": "ipython",
    "version": 2
   },
   "file_extension": ".py",
   "mimetype": "text/x-python",
   "name": "python",
   "nbconvert_exporter": "python",
   "pygments_lexer": "ipython2",
   "version": "2.7.6"
  }
 },
 "nbformat": 4,
 "nbformat_minor": 5
}
