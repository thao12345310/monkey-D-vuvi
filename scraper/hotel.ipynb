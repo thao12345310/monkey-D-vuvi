{
 "cells": [
  {
   "metadata": {},
   "cell_type": "markdown",
   "source": "# 1. Crawl data"
  },
  {
   "cell_type": "code",
   "metadata": {
    "ExecuteTime": {
     "end_time": "2025-04-04T19:13:27.472167Z",
     "start_time": "2025-04-04T19:13:27.462626Z"
    }
   },
   "source": [
    "import requests\n",
    "import csv"
   ],
   "outputs": [],
   "execution_count": 11
  },
  {
   "metadata": {
    "ExecuteTime": {
     "end_time": "2025-04-04T19:13:27.503529Z",
     "start_time": "2025-04-04T19:13:27.473179Z"
    }
   },
   "cell_type": "code",
   "source": [
    "api_hotel = \"https://mixivivu.com/api/hotels/get-list?size=5&page=\"\n",
    "page = 1"
   ],
   "outputs": [],
   "execution_count": 12
  },
  {
   "metadata": {
    "ExecuteTime": {
     "end_time": "2025-04-04T19:13:44.930408Z",
     "start_time": "2025-04-04T19:13:27.551398Z"
    }
   },
   "cell_type": "code",
   "source": [
    "with open(\"../data/hotel.csv\", \"w\", encoding=\"utf-8\", newline=\"\") as hotel_file,\\\n",
    "     open(\"../data/hotel_rooms.csv\", \"w\", encoding=\"utf-8\", newline=\"\") as room_file,\\\n",
    "     open(\"../data/hotel_description.csv\", \"w\", encoding=\"utf-8\", newline=\"\") as long_description_file:\n",
    "\n",
    "    hotel_writer = csv.writer(hotel_file)\n",
    "    room_writer = csv.writer(room_file)\n",
    "    long_description_writer = csv.writer(long_description_file)\n",
    "\n",
    "    hotel_writer.writerow([\"hotel_id\", \"hotel_name\", \"total_rooms\", \"admin\", \"hotel_price\", \"city\", \"address\", \"map_link\", \"hotel_features\", \"short_description\", \"long_description\"])\n",
    "    room_writer.writerow([\"room_id\", \"hotel_id\", \"room_name\", \"room_price\", \"room_features\", \"size\", \"max_persons\", \"bed_type\", \"view\"])\n",
    "    long_description_writer.writerow([\"hotel_id\", \"block_id\", \"type\", \"data\"])\n",
    "\n",
    "    hotel_id = 1\n",
    "    room_id = 1\n",
    "    while True:\n",
    "        try:\n",
    "            response = requests.get(api_hotel + str(page))\n",
    "            response.raise_for_status()\n",
    "\n",
    "            data = response.json()\n",
    "            hotels = data.get(\"result\", {}).get(\"data\", [])\n",
    "\n",
    "            if not hotels:\n",
    "                print(f\"No more data on page {page}. Stopping...\")\n",
    "                break\n",
    "\n",
    "            for hotel in hotels:\n",
    "                hotel_name = hotel.get(\"title\")\n",
    "                total_rooms = hotel.get(\"spec\", {}).get(\"hotel\", {}).get(\"totalRooms\")\n",
    "                admin = hotel.get(\"spec\", {}).get(\"hotel\", {}).get(\"admin\")\n",
    "                hotel_price = hotel.get(\"defaultPrice\")\n",
    "                city = hotel.get(\"city\", {}).get(\"name\")\n",
    "                address = hotel.get(\"address\")\n",
    "                map_link = hotel.get(\"mapLink\")\n",
    "\n",
    "                short_description_list = hotel.get(\"shortDescription\", [])\n",
    "                short_description = \" \".join(short_description_list)\n",
    "\n",
    "                features_list = hotel.get(\"features\", [])\n",
    "                hotel_features = \", \".join(feature.get(\"text\", \"\") for feature in features_list)\n",
    "\n",
    "                long_description = hotel.get(\"longDescription\", {}).get(\"blocks\")\n",
    "                long_description_text = \"\"\n",
    "\n",
    "                block_id = 1\n",
    "                for block in long_description:\n",
    "                    block_type = block[\"type\"]\n",
    "                    if block_type == \"paragraph\":\n",
    "                        data = block[\"data\"][\"text\"]\n",
    "                        long_description_text += data + \" \"\n",
    "                    elif block_type == \"image\":\n",
    "                        data = block[\"data\"][\"file\"][\"url\"]\n",
    "                    else:\n",
    "                        continue\n",
    "\n",
    "                    long_description_writer.writerow([hotel_id, block_id, block_type, data])\n",
    "                    block_id += 1\n",
    "\n",
    "                rooms = hotel.get(\"rooms\")\n",
    "\n",
    "                hotel_writer.writerow([hotel_id, hotel_name, total_rooms, admin, hotel_price, city, address, map_link, hotel_features, short_description.strip(), long_description_text.strip()])\n",
    "\n",
    "                for room in rooms:\n",
    "                    room_name = room.get(\"title\")\n",
    "                    room_price = room.get(\"price\")\n",
    "                    size = room.get(\"size\")\n",
    "                    max_persons = room.get(\"maxPersons\")\n",
    "\n",
    "                    room_features_list = room.get(\"features\", [])\n",
    "                    room_features = \", \".join(feature.get(\"text\", \"\") for feature in room_features_list)\n",
    "\n",
    "                    bed_type = room.get(\"bedType\")\n",
    "                    view = room.get(\"view\")\n",
    "\n",
    "                    room_writer.writerow([room_id, hotel_id, room_name, room_price, room_features, size, max_persons, bed_type, view])\n",
    "                    room_id += 1\n",
    "\n",
    "                hotel_id += 1\n",
    "\n",
    "            page += 1\n",
    "        except requests.RequestException as e:\n",
    "            print(f\"Error while fetching page {page}: {e}\")\n",
    "            break\n",
    "\n",
    "print(\"Data crawling and saving completed!\")"
   ],
   "outputs": [
    {
     "name": "stdout",
     "output_type": "stream",
     "text": [
      "No more data on page 45. Stopping...\n",
      "Data crawling and saving completed!\n"
     ]
    }
   ],
   "execution_count": 13
  }
 ],
 "metadata": {
  "kernelspec": {
   "display_name": "base",
   "language": "python",
   "name": "python3"
  },
  "language_info": {
   "name": "python",
   "version": "3.12.7"
  }
 },
 "nbformat": 4,
 "nbformat_minor": 2
}
