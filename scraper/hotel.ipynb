{
 "cells": [
  {
   "cell_type": "code",
   "metadata": {
    "ExecuteTime": {
     "end_time": "2025-04-01T10:02:46.859503Z",
     "start_time": "2025-04-01T10:02:46.833333Z"
    }
   },
   "source": [
    "import requests\n",
    "import csv"
   ],
   "outputs": [],
   "execution_count": 23
  },
  {
   "metadata": {
    "ExecuteTime": {
     "end_time": "2025-04-01T10:02:46.875138Z",
     "start_time": "2025-04-01T10:02:46.859503Z"
    }
   },
   "cell_type": "code",
   "source": [
    "api_hotel = \"https://mixivivu.com/api/hotels/get-list?size=5&page=\"\n",
    "page = 1"
   ],
   "outputs": [],
   "execution_count": 24
  },
  {
   "metadata": {
    "ExecuteTime": {
     "end_time": "2025-04-01T10:03:04.045226Z",
     "start_time": "2025-04-01T10:02:46.909692Z"
    }
   },
   "cell_type": "code",
   "source": [
    "with open(\"../data/hotel.csv\", \"w\", encoding=\"utf-8\", newline=\"\") as hotel_file, \\\n",
    "     open(\"../data/hotel_rooms.csv\", \"w\", encoding=\"utf-8\", newline=\"\") as room_file:\n",
    "\n",
    "    hotel_writer = csv.writer(hotel_file)\n",
    "    room_writer = csv.writer(room_file)\n",
    "\n",
    "    hotel_writer.writerow([\"hotel_id\", \"hotel_name\", \"total_rooms\", \"admin\", \"hotel_price\", \"city\", \"address\", \"map_link\", \"hotel_features\", \"short_description\", \"long_description\"])\n",
    "    room_writer.writerow([\"room_id\", \"hotel_id\", \"room_name\", \"room_price\", \"room_features\", \"size\", \"max_persons\", \"bed_type\", \"view\"])\n",
    "\n",
    "    hotel_id = 1\n",
    "    room_id = 1\n",
    "    while True:\n",
    "        try:\n",
    "            response = requests.get(api_hotel + str(page))\n",
    "            response.raise_for_status()\n",
    "\n",
    "            data = response.json()\n",
    "            hotels = data.get(\"result\", {}).get(\"data\", [])\n",
    "\n",
    "            if not hotels:\n",
    "                print(f\"No more data on page {page}. Stopping...\")\n",
    "                break\n",
    "\n",
    "            for hotel in hotels:\n",
    "                hotel_name = hotel.get(\"title\")\n",
    "                total_rooms = hotel.get(\"spec\", {}).get(\"hotel\", {}).get(\"totalRooms\")\n",
    "                admin = hotel.get(\"spec\", {}).get(\"hotel\", {}).get(\"admin\")\n",
    "                hotel_price = hotel.get(\"defaultPrice\")\n",
    "                city = hotel.get(\"city\", {}).get(\"name\")\n",
    "                address = hotel.get(\"address\")\n",
    "                map_link = hotel.get(\"mapLink\")\n",
    "\n",
    "                short_description = hotel.get(\"shortDescription\")\n",
    "                features_list = hotel.get(\"features\", [])\n",
    "                hotel_features = \", \".join(feature.get(\"text\", \"\") for feature in features_list)\n",
    "                long_description = hotel.get(\"longDescription\")\n",
    "                rooms = hotel.get(\"rooms\")\n",
    "\n",
    "                hotel_writer.writerow([hotel_id, hotel_name, total_rooms, admin, hotel_price, city, address, map_link, hotel_features, short_description, long_description])\n",
    "\n",
    "                for room in rooms:\n",
    "                    room_name = room.get(\"title\")\n",
    "                    room_price = room.get(\"price\")\n",
    "                    size = room.get(\"size\")\n",
    "                    max_persons = room.get(\"maxPersons\")\n",
    "\n",
    "                    room_features_list = room.get(\"features\", [])\n",
    "                    room_features = \", \".join(feature.get(\"text\", \"\") for feature in room_features_list)\n",
    "\n",
    "                    bed_type = room.get(\"bedType\")\n",
    "                    view = room.get(\"view\")\n",
    "\n",
    "                    room_writer.writerow([room_id, hotel_id, room_name, room_price, room_features, size, max_persons, bed_type, view])\n",
    "                    room_id += 1\n",
    "\n",
    "                hotel_id += 1\n",
    "\n",
    "            page += 1\n",
    "        except requests.RequestException as e:\n",
    "            print(f\"Error while fetching page {page}: {e}\")\n",
    "            break\n",
    "\n",
    "print(\"Data crawling and saving completed!\")"
   ],
   "outputs": [
    {
     "name": "stdout",
     "output_type": "stream",
     "text": [
      "No more data on page 45. Stopping...\n",
      "Data crawling and saving completed!\n"
     ]
    }
   ],
   "execution_count": 25
  }
 ],
 "metadata": {
  "kernelspec": {
   "display_name": "base",
   "language": "python",
   "name": "python3"
  },
  "language_info": {
   "name": "python",
   "version": "3.12.7"
  }
 },
 "nbformat": 4,
 "nbformat_minor": 2
}
