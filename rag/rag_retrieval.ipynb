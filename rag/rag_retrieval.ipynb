{
 "cells": [
  {
   "metadata": {},
   "cell_type": "markdown",
   "source": "# 1. Convert from csv to txt",
   "id": "87ea0aef527dd1a7"
  },
  {
   "metadata": {
    "ExecuteTime": {
     "end_time": "2025-04-05T09:08:05.140724Z",
     "start_time": "2025-04-05T09:08:05.125094Z"
    }
   },
   "cell_type": "code",
   "source": "import pandas as pd",
   "id": "5f0a6e890c883327",
   "outputs": [],
   "execution_count": 35
  },
  {
   "metadata": {
    "ExecuteTime": {
     "end_time": "2025-04-05T09:08:05.809367Z",
     "start_time": "2025-04-05T09:08:05.140724Z"
    }
   },
   "cell_type": "code",
   "source": [
    "csv_file = \"../data/hotel_with_nearest_restaurants.csv\"\n",
    "df = pd.read_csv(csv_file)\n",
    "total_text = \"\"\n",
    "for index, row in df.iterrows():\n",
    "    string = \"\"\n",
    "    hotel_name = row['hotel_name']\n",
    "    total_room = row['total_rooms']\n",
    "    admin = row['admin']\n",
    "    hotel_price = row['hotel_price']\n",
    "    city = row['city']\n",
    "    address = row['address']\n",
    "    map_link = row['map_link']\n",
    "    hotel_feature = row['hotel_features']\n",
    "    nearest_restaurant = row['nearest_restaurants']\n",
    "    short_description = row['short_description']\n",
    "    long_description = row['long_description']\n",
    "    # In ra thông tin\n",
    "    string += f\"Khách sạn {hotel_name}, với tổng cộng {total_room} phòng, được quản lý bởi {admin}, có giá {hotel_price} đồng, nằm tại {city}, địa chỉ {address}, với đường dẫn bản đồ {map_link}, có các tiện ích {hotel_feature}, và có các nhà hàng gần nhất:\\n{nearest_restaurant}, mô tả ngắn gọn: {short_description}, mô tả chi tiết: {long_description} \\n\"\n",
    "    total_text += string\n",
    "    # print(string)"
   ],
   "id": "432b86217f53602d",
   "outputs": [],
   "execution_count": 36
  },
  {
   "metadata": {
    "ExecuteTime": {
     "end_time": "2025-04-05T09:08:05.920120Z",
     "start_time": "2025-04-05T09:08:05.882175Z"
    }
   },
   "cell_type": "code",
   "source": [
    "txt_file = 'output.txt'\n",
    "with open(txt_file, 'w', encoding='utf-8') as f:\n",
    "    f.write(total_text)"
   ],
   "id": "322e9951356f04c0",
   "outputs": [],
   "execution_count": 37
  },
  {
   "metadata": {},
   "cell_type": "markdown",
   "source": "# 2. Build a vector database based on FAISS",
   "id": "c98caa01bf149d9a"
  },
  {
   "metadata": {
    "collapsed": true,
    "ExecuteTime": {
     "end_time": "2025-04-05T09:08:06.008900Z",
     "start_time": "2025-04-05T09:08:05.994301Z"
    }
   },
   "cell_type": "code",
   "source": [
    "from dotenv import load_dotenv\n",
    "import os\n",
    "from langchain.embeddings.openai import OpenAIEmbeddings\n",
    "from langchain.vectorstores import FAISS\n",
    "from langchain.document_loaders import TextLoader\n",
    "from langchain.text_splitter import RecursiveCharacterTextSplitter\n",
    "from langchain_openai import ChatOpenAI"
   ],
   "id": "initial_id",
   "outputs": [],
   "execution_count": 38
  },
  {
   "metadata": {
    "ExecuteTime": {
     "end_time": "2025-04-05T09:08:06.088661Z",
     "start_time": "2025-04-05T09:08:06.072828Z"
    }
   },
   "cell_type": "code",
   "source": "load_dotenv('.env')",
   "id": "235ff07de13f18b4",
   "outputs": [
    {
     "data": {
      "text/plain": [
       "True"
      ]
     },
     "execution_count": 39,
     "metadata": {},
     "output_type": "execute_result"
    }
   ],
   "execution_count": 39
  },
  {
   "metadata": {
    "ExecuteTime": {
     "end_time": "2025-04-05T09:08:06.173140Z",
     "start_time": "2025-04-05T09:08:06.159619Z"
    }
   },
   "cell_type": "code",
   "source": [
    "api_key = os.getenv(\"OPENAI_API_KEY\")\n",
    "if not api_key:\n",
    "    raise ValueError(\"The OpenAI API key is not set. Please set the OPENAI_API_KEY environment variable.\")\n",
    "else:\n",
    "    print(\"API key loaded successfully.\")"
   ],
   "id": "57a5202b8acec3d8",
   "outputs": [
    {
     "name": "stdout",
     "output_type": "stream",
     "text": [
      "API key loaded successfully.\n"
     ]
    }
   ],
   "execution_count": 40
  },
  {
   "metadata": {},
   "cell_type": "code",
   "source": [
    "model = ChatOpenAI(model=\"gpt-4o\", temperature=0, openai_api_key=api_key)\n",
    "model.invoke(\"Hello, world!\")"
   ],
   "id": "50a5fe1478c3fb00",
   "outputs": [],
   "execution_count": null
  },
  {
   "metadata": {},
   "cell_type": "code",
   "outputs": [],
   "execution_count": null,
   "source": [
    "# Load tài liệu\n",
    "loader = TextLoader(\"output.txt\",encoding=\"utf-8\")\n",
    "documents = loader.load()\n",
    "\n",
    "# Cắt nhỏ văn bản\n",
    "text_splitter = RecursiveCharacterTextSplitter(chunk_size=5000, chunk_overlap=50)\n",
    "docs = text_splitter.split_documents(documents)\n",
    "\n",
    "# Tạo vector database (FAISS)\n",
    "embeddings = OpenAIEmbeddings()\n",
    "vectorstore = FAISS.from_documents(docs, embeddings)"
   ],
   "id": "25e152ccf92ff341"
  },
  {
   "metadata": {},
   "cell_type": "code",
   "outputs": [],
   "execution_count": null,
   "source": "vectorstore.save_local(\"faiss_index\")",
   "id": "933ac1b366fd5a0e"
  },
  {
   "metadata": {},
   "cell_type": "code",
   "outputs": [],
   "execution_count": null,
   "source": [
    "embeddings = OpenAIEmbeddings()\n",
    "loaded_vectorstore = FAISS.load_local(\n",
    "    \"faiss_index\",\n",
    "    embeddings=embeddings,\n",
    "    allow_dangerous_deserialization=True\n",
    ")"
   ],
   "id": "f0674e6d70317303"
  },
  {
   "metadata": {},
   "cell_type": "code",
   "outputs": [],
   "execution_count": null,
   "source": [
    "results = loaded_vectorstore.similarity_search(\"Nhà hàng DeLaSea Hạ Long\")\n",
    "results"
   ],
   "id": "2bad98cff736f7f1"
  },
  {
   "metadata": {},
   "cell_type": "markdown",
   "source": "# 3. Pass retrieval data into the prompt",
   "id": "8a39057233093ed4"
  },
  {
   "metadata": {
    "ExecuteTime": {
     "end_time": "2025-04-05T09:08:09.345204900Z",
     "start_time": "2025-04-05T09:02:14.164648Z"
    }
   },
   "cell_type": "code",
   "source": [
    "prompt_template = \"\"\"\n",
    "Bạn là một chuyên gia du lịch và có kiến thức đầy đủ về các khách sạn tại Việt Nam. Bạn hãy trả lời câu hỏi của tôi dựa trên thông tin mà tôi đã cung cấp cho bạn. Các câu hỏi chủ yếu về các địa điểm du lịch, và cách xây dựng tour du lịch hợp lí bao gồm khách sạn, nhà hàng cũng như các địa điểm du lịch nổi tiếng gần đó.\n",
    "Dưới đây là thông tin về một khách sạn mà tôi đã tìm thấy: {results}\n",
    "\n",
    "Câu hỏi của tôi là: {question}\n",
    "\n",
    "Hãy cung cấp thông tin chi tiết về khách sạn và nhà hàng mà tôi yêu cầu, sử dụng các thông tin đã có và bổ sung thêm nếu có. Nếu có các thông tin về đường dẫn tới map hay facebook, website của khách sạn hay nhà hàng, hãy cung cấp cho tôi. Nếu không có thông tin nào, hãy nói là không có thông tin nào.\n",
    "\"\"\""
   ],
   "id": "6c97b05c1c886dbd",
   "outputs": [],
   "execution_count": 34
  },
  {
   "metadata": {},
   "cell_type": "code",
   "outputs": [],
   "execution_count": null,
   "source": [
    "messages = model.invoke(prompt_template.format(results=results, question=\"Xây dựng cho tôi một tour du lịch 3 ngày 2 đêm tại Hạ Long, bao gồm khách sạn, nhà hàng và các địa điểm du lịch nổi tiếng gần đó.\"))\n",
    "print(messages.content)"
   ],
   "id": "9eee6097df33e590"
  },
  {
   "metadata": {},
   "cell_type": "code",
   "outputs": [],
   "execution_count": null,
   "source": "messages.content",
   "id": "fb2030e47fe36161"
  }
 ],
 "metadata": {
  "kernelspec": {
   "display_name": "Python 3",
   "language": "python",
   "name": "python3"
  },
  "language_info": {
   "codemirror_mode": {
    "name": "ipython",
    "version": 2
   },
   "file_extension": ".py",
   "mimetype": "text/x-python",
   "name": "python",
   "nbconvert_exporter": "python",
   "pygments_lexer": "ipython2",
   "version": "2.7.6"
  }
 },
 "nbformat": 4,
 "nbformat_minor": 5
}
